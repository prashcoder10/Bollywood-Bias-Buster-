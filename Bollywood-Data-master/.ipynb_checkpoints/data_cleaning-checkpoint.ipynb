{
 "cells": [
  {
   "cell_type": "code",
   "execution_count": 1,
   "id": "70436e47-caa9-492d-be67-cdf138fb573c",
   "metadata": {},
   "outputs": [
    {
     "name": "stdout",
     "output_type": "stream",
     "text": [
      "C:\\Users\\prash\\docu3c\\Bollywood-Data-master\n"
     ]
    }
   ],
   "source": [
    "import os\n",
    "print(os.getcwd())\n"
   ]
  },
  {
   "cell_type": "code",
   "execution_count": 2,
   "id": "52ac4080-067d-453b-bda9-9e9fc0183e22",
   "metadata": {},
   "outputs": [
    {
     "name": "stderr",
     "output_type": "stream",
     "text": [
      "\n",
      "A module that was compiled using NumPy 1.x cannot be run in\n",
      "NumPy 2.3.1 as it may crash. To support both 1.x and 2.x\n",
      "versions of NumPy, modules must be compiled with NumPy 2.0.\n",
      "Some module may need to rebuild instead e.g. with 'pybind11>=2.12'.\n",
      "\n",
      "If you are a user of the module, the easiest solution will be to\n",
      "downgrade to 'numpy<2' or try to upgrade the affected module.\n",
      "We expect that some modules will need time to support NumPy 2.\n",
      "\n",
      "Traceback (most recent call last):  File \"<frozen runpy>\", line 198, in _run_module_as_main\n",
      "  File \"<frozen runpy>\", line 88, in _run_code\n",
      "  File \"C:\\Users\\prash\\anaconda3\\Lib\\site-packages\\ipykernel_launcher.py\", line 17, in <module>\n",
      "    app.launch_new_instance()\n",
      "  File \"C:\\Users\\prash\\anaconda3\\Lib\\site-packages\\traitlets\\config\\application.py\", line 992, in launch_instance\n",
      "    app.start()\n",
      "  File \"C:\\Users\\prash\\anaconda3\\Lib\\site-packages\\ipykernel\\kernelapp.py\", line 701, in start\n",
      "    self.io_loop.start()\n",
      "  File \"C:\\Users\\prash\\anaconda3\\Lib\\site-packages\\tornado\\platform\\asyncio.py\", line 195, in start\n",
      "    self.asyncio_loop.run_forever()\n",
      "  File \"C:\\Users\\prash\\anaconda3\\Lib\\asyncio\\windows_events.py\", line 321, in run_forever\n",
      "    super().run_forever()\n",
      "  File \"C:\\Users\\prash\\anaconda3\\Lib\\asyncio\\base_events.py\", line 607, in run_forever\n",
      "    self._run_once()\n",
      "  File \"C:\\Users\\prash\\anaconda3\\Lib\\asyncio\\base_events.py\", line 1922, in _run_once\n",
      "    handle._run()\n",
      "  File \"C:\\Users\\prash\\anaconda3\\Lib\\asyncio\\events.py\", line 80, in _run\n",
      "    self._context.run(self._callback, *self._args)\n",
      "  File \"C:\\Users\\prash\\anaconda3\\Lib\\site-packages\\ipykernel\\kernelbase.py\", line 534, in dispatch_queue\n",
      "    await self.process_one()\n",
      "  File \"C:\\Users\\prash\\anaconda3\\Lib\\site-packages\\ipykernel\\kernelbase.py\", line 523, in process_one\n",
      "    await dispatch(*args)\n",
      "  File \"C:\\Users\\prash\\anaconda3\\Lib\\site-packages\\ipykernel\\kernelbase.py\", line 429, in dispatch_shell\n",
      "    await result\n",
      "  File \"C:\\Users\\prash\\anaconda3\\Lib\\site-packages\\ipykernel\\kernelbase.py\", line 767, in execute_request\n",
      "    reply_content = await reply_content\n",
      "  File \"C:\\Users\\prash\\anaconda3\\Lib\\site-packages\\ipykernel\\ipkernel.py\", line 429, in do_execute\n",
      "    res = shell.run_cell(\n",
      "  File \"C:\\Users\\prash\\anaconda3\\Lib\\site-packages\\ipykernel\\zmqshell.py\", line 549, in run_cell\n",
      "    return super().run_cell(*args, **kwargs)\n",
      "  File \"C:\\Users\\prash\\anaconda3\\Lib\\site-packages\\IPython\\core\\interactiveshell.py\", line 3051, in run_cell\n",
      "    result = self._run_cell(\n",
      "  File \"C:\\Users\\prash\\anaconda3\\Lib\\site-packages\\IPython\\core\\interactiveshell.py\", line 3106, in _run_cell\n",
      "    result = runner(coro)\n",
      "  File \"C:\\Users\\prash\\anaconda3\\Lib\\site-packages\\IPython\\core\\async_helpers.py\", line 129, in _pseudo_sync_runner\n",
      "    coro.send(None)\n",
      "  File \"C:\\Users\\prash\\anaconda3\\Lib\\site-packages\\IPython\\core\\interactiveshell.py\", line 3311, in run_cell_async\n",
      "    has_raised = await self.run_ast_nodes(code_ast.body, cell_name,\n",
      "  File \"C:\\Users\\prash\\anaconda3\\Lib\\site-packages\\IPython\\core\\interactiveshell.py\", line 3493, in run_ast_nodes\n",
      "    if await self.run_code(code, result, async_=asy):\n",
      "  File \"C:\\Users\\prash\\anaconda3\\Lib\\site-packages\\IPython\\core\\interactiveshell.py\", line 3553, in run_code\n",
      "    exec(code_obj, self.user_global_ns, self.user_ns)\n",
      "  File \"C:\\Users\\prash\\AppData\\Local\\Temp\\ipykernel_47904\\3342814138.py\", line 2, in <module>\n",
      "    import pandas as pd\n",
      "  File \"C:\\Users\\prash\\anaconda3\\Lib\\site-packages\\pandas\\__init__.py\", line 23, in <module>\n",
      "    from pandas.compat import (\n",
      "  File \"C:\\Users\\prash\\anaconda3\\Lib\\site-packages\\pandas\\compat\\__init__.py\", line 27, in <module>\n",
      "    from pandas.compat.pyarrow import (\n",
      "  File \"C:\\Users\\prash\\anaconda3\\Lib\\site-packages\\pandas\\compat\\pyarrow.py\", line 8, in <module>\n",
      "    import pyarrow as pa\n",
      "  File \"C:\\Users\\prash\\anaconda3\\Lib\\site-packages\\pyarrow\\__init__.py\", line 65, in <module>\n",
      "    import pyarrow.lib as _lib\n"
     ]
    },
    {
     "ename": "AttributeError",
     "evalue": "_ARRAY_API not found",
     "output_type": "error",
     "traceback": [
      "\u001b[1;31m---------------------------------------------------------------------------\u001b[0m",
      "\u001b[1;31mAttributeError\u001b[0m                            Traceback (most recent call last)",
      "\u001b[1;31mAttributeError\u001b[0m: _ARRAY_API not found"
     ]
    },
    {
     "ename": "ValueError",
     "evalue": "numpy.dtype size changed, may indicate binary incompatibility. Expected 96 from C header, got 88 from PyObject",
     "output_type": "error",
     "traceback": [
      "\u001b[1;31m---------------------------------------------------------------------------\u001b[0m",
      "\u001b[1;31mValueError\u001b[0m                                Traceback (most recent call last)",
      "Cell \u001b[1;32mIn[2], line 2\u001b[0m\n\u001b[0;32m      1\u001b[0m \u001b[38;5;28;01mimport\u001b[39;00m \u001b[38;5;21;01mcsv\u001b[39;00m\n\u001b[1;32m----> 2\u001b[0m \u001b[38;5;28;01mimport\u001b[39;00m \u001b[38;5;21;01mpandas\u001b[39;00m \u001b[38;5;28;01mas\u001b[39;00m \u001b[38;5;21;01mpd\u001b[39;00m\n\u001b[0;32m      3\u001b[0m filepath\u001b[38;5;241m=\u001b[39m\u001b[38;5;124m\"\u001b[39m\u001b[38;5;124mC:\u001b[39m\u001b[38;5;130;01m\\\\\u001b[39;00m\u001b[38;5;124mUsers\u001b[39m\u001b[38;5;130;01m\\\\\u001b[39;00m\u001b[38;5;124mprash\u001b[39m\u001b[38;5;130;01m\\\\\u001b[39;00m\u001b[38;5;124mdocu3c\u001b[39m\u001b[38;5;130;01m\\\\\u001b[39;00m\u001b[38;5;124mBollywood-Data-master\u001b[39m\u001b[38;5;130;01m\\\\\u001b[39;00m\u001b[38;5;124mwikipedia-data\u001b[39m\u001b[38;5;130;01m\\\\\u001b[39;00m\u001b[38;5;124mfemale_adjectives.csv\u001b[39m\u001b[38;5;124m\"\u001b[39m\n\u001b[0;32m      4\u001b[0m df_f_adj\u001b[38;5;241m=\u001b[39mpd\u001b[38;5;241m.\u001b[39mread_csv(filepath, nrows\u001b[38;5;241m=\u001b[39m\u001b[38;5;241m5\u001b[39m)\n",
      "File \u001b[1;32m~\\anaconda3\\Lib\\site-packages\\pandas\\__init__.py:46\u001b[0m\n\u001b[0;32m     43\u001b[0m \u001b[38;5;66;03m# let init-time option registration happen\u001b[39;00m\n\u001b[0;32m     44\u001b[0m \u001b[38;5;28;01mimport\u001b[39;00m \u001b[38;5;21;01mpandas\u001b[39;00m\u001b[38;5;21;01m.\u001b[39;00m\u001b[38;5;21;01mcore\u001b[39;00m\u001b[38;5;21;01m.\u001b[39;00m\u001b[38;5;21;01mconfig_init\u001b[39;00m  \u001b[38;5;66;03m# pyright: ignore[reportUnusedImport] # noqa: F401\u001b[39;00m\n\u001b[1;32m---> 46\u001b[0m \u001b[38;5;28;01mfrom\u001b[39;00m \u001b[38;5;21;01mpandas\u001b[39;00m\u001b[38;5;21;01m.\u001b[39;00m\u001b[38;5;21;01mcore\u001b[39;00m\u001b[38;5;21;01m.\u001b[39;00m\u001b[38;5;21;01mapi\u001b[39;00m \u001b[38;5;28;01mimport\u001b[39;00m (\n\u001b[0;32m     47\u001b[0m     \u001b[38;5;66;03m# dtype\u001b[39;00m\n\u001b[0;32m     48\u001b[0m     ArrowDtype,\n\u001b[0;32m     49\u001b[0m     Int8Dtype,\n\u001b[0;32m     50\u001b[0m     Int16Dtype,\n\u001b[0;32m     51\u001b[0m     Int32Dtype,\n\u001b[0;32m     52\u001b[0m     Int64Dtype,\n\u001b[0;32m     53\u001b[0m     UInt8Dtype,\n\u001b[0;32m     54\u001b[0m     UInt16Dtype,\n\u001b[0;32m     55\u001b[0m     UInt32Dtype,\n\u001b[0;32m     56\u001b[0m     UInt64Dtype,\n\u001b[0;32m     57\u001b[0m     Float32Dtype,\n\u001b[0;32m     58\u001b[0m     Float64Dtype,\n\u001b[0;32m     59\u001b[0m     CategoricalDtype,\n\u001b[0;32m     60\u001b[0m     PeriodDtype,\n\u001b[0;32m     61\u001b[0m     IntervalDtype,\n\u001b[0;32m     62\u001b[0m     DatetimeTZDtype,\n\u001b[0;32m     63\u001b[0m     StringDtype,\n\u001b[0;32m     64\u001b[0m     BooleanDtype,\n\u001b[0;32m     65\u001b[0m     \u001b[38;5;66;03m# missing\u001b[39;00m\n\u001b[0;32m     66\u001b[0m     NA,\n\u001b[0;32m     67\u001b[0m     isna,\n\u001b[0;32m     68\u001b[0m     isnull,\n\u001b[0;32m     69\u001b[0m     notna,\n\u001b[0;32m     70\u001b[0m     notnull,\n\u001b[0;32m     71\u001b[0m     \u001b[38;5;66;03m# indexes\u001b[39;00m\n\u001b[0;32m     72\u001b[0m     Index,\n\u001b[0;32m     73\u001b[0m     CategoricalIndex,\n\u001b[0;32m     74\u001b[0m     RangeIndex,\n\u001b[0;32m     75\u001b[0m     MultiIndex,\n\u001b[0;32m     76\u001b[0m     IntervalIndex,\n\u001b[0;32m     77\u001b[0m     TimedeltaIndex,\n\u001b[0;32m     78\u001b[0m     DatetimeIndex,\n\u001b[0;32m     79\u001b[0m     PeriodIndex,\n\u001b[0;32m     80\u001b[0m     IndexSlice,\n\u001b[0;32m     81\u001b[0m     \u001b[38;5;66;03m# tseries\u001b[39;00m\n\u001b[0;32m     82\u001b[0m     NaT,\n\u001b[0;32m     83\u001b[0m     Period,\n\u001b[0;32m     84\u001b[0m     period_range,\n\u001b[0;32m     85\u001b[0m     Timedelta,\n\u001b[0;32m     86\u001b[0m     timedelta_range,\n\u001b[0;32m     87\u001b[0m     Timestamp,\n\u001b[0;32m     88\u001b[0m     date_range,\n\u001b[0;32m     89\u001b[0m     bdate_range,\n\u001b[0;32m     90\u001b[0m     Interval,\n\u001b[0;32m     91\u001b[0m     interval_range,\n\u001b[0;32m     92\u001b[0m     DateOffset,\n\u001b[0;32m     93\u001b[0m     \u001b[38;5;66;03m# conversion\u001b[39;00m\n\u001b[0;32m     94\u001b[0m     to_numeric,\n\u001b[0;32m     95\u001b[0m     to_datetime,\n\u001b[0;32m     96\u001b[0m     to_timedelta,\n\u001b[0;32m     97\u001b[0m     \u001b[38;5;66;03m# misc\u001b[39;00m\n\u001b[0;32m     98\u001b[0m     Flags,\n\u001b[0;32m     99\u001b[0m     Grouper,\n\u001b[0;32m    100\u001b[0m     factorize,\n\u001b[0;32m    101\u001b[0m     unique,\n\u001b[0;32m    102\u001b[0m     value_counts,\n\u001b[0;32m    103\u001b[0m     NamedAgg,\n\u001b[0;32m    104\u001b[0m     array,\n\u001b[0;32m    105\u001b[0m     Categorical,\n\u001b[0;32m    106\u001b[0m     set_eng_float_format,\n\u001b[0;32m    107\u001b[0m     Series,\n\u001b[0;32m    108\u001b[0m     DataFrame,\n\u001b[0;32m    109\u001b[0m )\n\u001b[0;32m    111\u001b[0m \u001b[38;5;28;01mfrom\u001b[39;00m \u001b[38;5;21;01mpandas\u001b[39;00m\u001b[38;5;21;01m.\u001b[39;00m\u001b[38;5;21;01mcore\u001b[39;00m\u001b[38;5;21;01m.\u001b[39;00m\u001b[38;5;21;01mdtypes\u001b[39;00m\u001b[38;5;21;01m.\u001b[39;00m\u001b[38;5;21;01mdtypes\u001b[39;00m \u001b[38;5;28;01mimport\u001b[39;00m SparseDtype\n\u001b[0;32m    113\u001b[0m \u001b[38;5;28;01mfrom\u001b[39;00m \u001b[38;5;21;01mpandas\u001b[39;00m\u001b[38;5;21;01m.\u001b[39;00m\u001b[38;5;21;01mtseries\u001b[39;00m\u001b[38;5;21;01m.\u001b[39;00m\u001b[38;5;21;01mapi\u001b[39;00m \u001b[38;5;28;01mimport\u001b[39;00m infer_freq\n",
      "File \u001b[1;32m~\\anaconda3\\Lib\\site-packages\\pandas\\core\\api.py:1\u001b[0m\n\u001b[1;32m----> 1\u001b[0m \u001b[38;5;28;01mfrom\u001b[39;00m \u001b[38;5;21;01mpandas\u001b[39;00m\u001b[38;5;21;01m.\u001b[39;00m\u001b[38;5;21;01m_libs\u001b[39;00m \u001b[38;5;28;01mimport\u001b[39;00m (\n\u001b[0;32m      2\u001b[0m     NaT,\n\u001b[0;32m      3\u001b[0m     Period,\n\u001b[0;32m      4\u001b[0m     Timedelta,\n\u001b[0;32m      5\u001b[0m     Timestamp,\n\u001b[0;32m      6\u001b[0m )\n\u001b[0;32m      7\u001b[0m \u001b[38;5;28;01mfrom\u001b[39;00m \u001b[38;5;21;01mpandas\u001b[39;00m\u001b[38;5;21;01m.\u001b[39;00m\u001b[38;5;21;01m_libs\u001b[39;00m\u001b[38;5;21;01m.\u001b[39;00m\u001b[38;5;21;01mmissing\u001b[39;00m \u001b[38;5;28;01mimport\u001b[39;00m NA\n\u001b[0;32m      9\u001b[0m \u001b[38;5;28;01mfrom\u001b[39;00m \u001b[38;5;21;01mpandas\u001b[39;00m\u001b[38;5;21;01m.\u001b[39;00m\u001b[38;5;21;01mcore\u001b[39;00m\u001b[38;5;21;01m.\u001b[39;00m\u001b[38;5;21;01mdtypes\u001b[39;00m\u001b[38;5;21;01m.\u001b[39;00m\u001b[38;5;21;01mdtypes\u001b[39;00m \u001b[38;5;28;01mimport\u001b[39;00m (\n\u001b[0;32m     10\u001b[0m     ArrowDtype,\n\u001b[0;32m     11\u001b[0m     CategoricalDtype,\n\u001b[1;32m   (...)\u001b[0m\n\u001b[0;32m     14\u001b[0m     PeriodDtype,\n\u001b[0;32m     15\u001b[0m )\n",
      "File \u001b[1;32m~\\anaconda3\\Lib\\site-packages\\pandas\\_libs\\__init__.py:18\u001b[0m\n\u001b[0;32m     16\u001b[0m \u001b[38;5;28;01mimport\u001b[39;00m \u001b[38;5;21;01mpandas\u001b[39;00m\u001b[38;5;21;01m.\u001b[39;00m\u001b[38;5;21;01m_libs\u001b[39;00m\u001b[38;5;21;01m.\u001b[39;00m\u001b[38;5;21;01mpandas_parser\u001b[39;00m  \u001b[38;5;66;03m# noqa: E501 # isort: skip # type: ignore[reportUnusedImport]\u001b[39;00m\n\u001b[0;32m     17\u001b[0m \u001b[38;5;28;01mimport\u001b[39;00m \u001b[38;5;21;01mpandas\u001b[39;00m\u001b[38;5;21;01m.\u001b[39;00m\u001b[38;5;21;01m_libs\u001b[39;00m\u001b[38;5;21;01m.\u001b[39;00m\u001b[38;5;21;01mpandas_datetime\u001b[39;00m  \u001b[38;5;66;03m# noqa: F401,E501 # isort: skip # type: ignore[reportUnusedImport]\u001b[39;00m\n\u001b[1;32m---> 18\u001b[0m \u001b[38;5;28;01mfrom\u001b[39;00m \u001b[38;5;21;01mpandas\u001b[39;00m\u001b[38;5;21;01m.\u001b[39;00m\u001b[38;5;21;01m_libs\u001b[39;00m\u001b[38;5;21;01m.\u001b[39;00m\u001b[38;5;21;01minterval\u001b[39;00m \u001b[38;5;28;01mimport\u001b[39;00m Interval\n\u001b[0;32m     19\u001b[0m \u001b[38;5;28;01mfrom\u001b[39;00m \u001b[38;5;21;01mpandas\u001b[39;00m\u001b[38;5;21;01m.\u001b[39;00m\u001b[38;5;21;01m_libs\u001b[39;00m\u001b[38;5;21;01m.\u001b[39;00m\u001b[38;5;21;01mtslibs\u001b[39;00m \u001b[38;5;28;01mimport\u001b[39;00m (\n\u001b[0;32m     20\u001b[0m     NaT,\n\u001b[0;32m     21\u001b[0m     NaTType,\n\u001b[1;32m   (...)\u001b[0m\n\u001b[0;32m     26\u001b[0m     iNaT,\n\u001b[0;32m     27\u001b[0m )\n",
      "File \u001b[1;32minterval.pyx:1\u001b[0m, in \u001b[0;36minit pandas._libs.interval\u001b[1;34m()\u001b[0m\n",
      "\u001b[1;31mValueError\u001b[0m: numpy.dtype size changed, may indicate binary incompatibility. Expected 96 from C header, got 88 from PyObject"
     ]
    }
   ],
   "source": [
    "import csv\n",
    "import pandas as pd\n",
    "filepath=\"C:\\\\Users\\\\prash\\\\docu3c\\\\Bollywood-Data-master\\\\wikipedia-data\\\\female_adjectives.csv\"\n",
    "df_f_adj=pd.read_csv(filepath, nrows=5)\n",
    "print(df_f_adj.head())"
   ]
  },
  {
   "cell_type": "code",
   "execution_count": 157,
   "id": "23e16f3b-2462-4e9b-9fbe-df7005211aa1",
   "metadata": {},
   "outputs": [],
   "source": [
    "df_f_adj=pd.read_csv(filepath, on_bad_lines='skip', header=None)"
   ]
  },
  {
   "cell_type": "code",
   "execution_count": 158,
   "id": "daeb8b9d-e465-48cd-aec8-1decadc9d8f0",
   "metadata": {},
   "outputs": [
    {
     "name": "stdout",
     "output_type": "stream",
     "text": [
      "         0                 1\n",
      "0     1970           [young]\n",
      "1     1970                []\n",
      "2     1970                []\n",
      "3     1970                []\n",
      "4     1970  [unrecognizable]\n",
      "...    ...               ...\n",
      "4854  2008                []\n",
      "4855  2008                []\n",
      "4856  1971                []\n",
      "4857  1971            [long]\n",
      "4858  1971       [beautiful]\n",
      "\n",
      "[4859 rows x 2 columns]\n"
     ]
    }
   ],
   "source": [
    "print(df_f_adj)"
   ]
  },
  {
   "cell_type": "code",
   "execution_count": 159,
   "id": "795c980b-e110-4b8c-bc43-30a474b0372c",
   "metadata": {},
   "outputs": [
    {
     "data": {
      "text/html": [
       "<div>\n",
       "<style scoped>\n",
       "    .dataframe tbody tr th:only-of-type {\n",
       "        vertical-align: middle;\n",
       "    }\n",
       "\n",
       "    .dataframe tbody tr th {\n",
       "        vertical-align: top;\n",
       "    }\n",
       "\n",
       "    .dataframe thead th {\n",
       "        text-align: right;\n",
       "    }\n",
       "</style>\n",
       "<table border=\"1\" class=\"dataframe\">\n",
       "  <thead>\n",
       "    <tr style=\"text-align: right;\">\n",
       "      <th></th>\n",
       "      <th>0</th>\n",
       "      <th>1</th>\n",
       "    </tr>\n",
       "  </thead>\n",
       "  <tbody>\n",
       "    <tr>\n",
       "      <th>0</th>\n",
       "      <td>1970</td>\n",
       "      <td>[]</td>\n",
       "    </tr>\n",
       "    <tr>\n",
       "      <th>1</th>\n",
       "      <td>1970</td>\n",
       "      <td>[unhappilly]</td>\n",
       "    </tr>\n",
       "    <tr>\n",
       "      <th>2</th>\n",
       "      <td>1970</td>\n",
       "      <td>[]</td>\n",
       "    </tr>\n",
       "    <tr>\n",
       "      <th>3</th>\n",
       "      <td>1970</td>\n",
       "      <td>[]</td>\n",
       "    </tr>\n",
       "    <tr>\n",
       "      <th>4</th>\n",
       "      <td>1970</td>\n",
       "      <td>[famous]</td>\n",
       "    </tr>\n",
       "  </tbody>\n",
       "</table>\n",
       "</div>"
      ],
      "text/plain": [
       "      0             1\n",
       "0  1970            []\n",
       "1  1970  [unhappilly]\n",
       "2  1970            []\n",
       "3  1970            []\n",
       "4  1970      [famous]"
      ]
     },
     "execution_count": 159,
     "metadata": {},
     "output_type": "execute_result"
    }
   ],
   "source": [
    "df_m_adj=pd.read_csv(\"C:\\\\Users\\\\prash\\\\docu3c\\\\Bollywood-Data-master\\\\wikipedia-data\\\\male_adjectives.csv\", on_bad_lines='skip', header=None)\n",
    "df_m_adj.head()"
   ]
  },
  {
   "cell_type": "code",
   "execution_count": 160,
   "id": "77ebb0dd-fbe2-4c18-b388-2c46bd4a5447",
   "metadata": {},
   "outputs": [
    {
     "data": {
      "text/html": [
       "<div>\n",
       "<style scoped>\n",
       "    .dataframe tbody tr th:only-of-type {\n",
       "        vertical-align: middle;\n",
       "    }\n",
       "\n",
       "    .dataframe tbody tr th {\n",
       "        vertical-align: top;\n",
       "    }\n",
       "\n",
       "    .dataframe thead th {\n",
       "        text-align: right;\n",
       "    }\n",
       "</style>\n",
       "<table border=\"1\" class=\"dataframe\">\n",
       "  <thead>\n",
       "    <tr style=\"text-align: right;\">\n",
       "      <th></th>\n",
       "      <th>0</th>\n",
       "      <th>1</th>\n",
       "      <th>2</th>\n",
       "    </tr>\n",
       "  </thead>\n",
       "  <tbody>\n",
       "    <tr>\n",
       "      <th>0</th>\n",
       "      <td>1970</td>\n",
       "      <td>[convinces]</td>\n",
       "      <td>[]</td>\n",
       "    </tr>\n",
       "    <tr>\n",
       "      <th>1</th>\n",
       "      <td>1970</td>\n",
       "      <td>[]</td>\n",
       "      <td>[unhappilly]</td>\n",
       "    </tr>\n",
       "    <tr>\n",
       "      <th>2</th>\n",
       "      <td>1970</td>\n",
       "      <td>[lives]</td>\n",
       "      <td>[]</td>\n",
       "    </tr>\n",
       "    <tr>\n",
       "      <th>3</th>\n",
       "      <td>1970</td>\n",
       "      <td>[lives]</td>\n",
       "      <td>[]</td>\n",
       "    </tr>\n",
       "    <tr>\n",
       "      <th>4</th>\n",
       "      <td>1970</td>\n",
       "      <td>[]</td>\n",
       "      <td>[famous]</td>\n",
       "    </tr>\n",
       "  </tbody>\n",
       "</table>\n",
       "</div>"
      ],
      "text/plain": [
       "      0            1             2\n",
       "0  1970  [convinces]            []\n",
       "1  1970           []  [unhappilly]\n",
       "2  1970      [lives]            []\n",
       "3  1970      [lives]            []\n",
       "4  1970           []      [famous]"
      ]
     },
     "execution_count": 160,
     "metadata": {},
     "output_type": "execute_result"
    }
   ],
   "source": [
    "df_m_adv=pd.read_csv(\"C:\\\\Users\\\\prash\\\\docu3c\\\\Bollywood-Data-master\\\\wikipedia-data\\\\male_adjverb.csv\", on_bad_lines='skip', header=None)\n",
    "df_m_adv.head()"
   ]
  },
  {
   "cell_type": "code",
   "execution_count": 161,
   "id": "f1336124-80ed-4b49-a9c1-07ed40632975",
   "metadata": {},
   "outputs": [
    {
     "data": {
      "text/html": [
       "<div>\n",
       "<style scoped>\n",
       "    .dataframe tbody tr th:only-of-type {\n",
       "        vertical-align: middle;\n",
       "    }\n",
       "\n",
       "    .dataframe tbody tr th {\n",
       "        vertical-align: top;\n",
       "    }\n",
       "\n",
       "    .dataframe thead th {\n",
       "        text-align: right;\n",
       "    }\n",
       "</style>\n",
       "<table border=\"1\" class=\"dataframe\">\n",
       "  <thead>\n",
       "    <tr style=\"text-align: right;\">\n",
       "      <th></th>\n",
       "      <th>0</th>\n",
       "      <th>1</th>\n",
       "      <th>2</th>\n",
       "    </tr>\n",
       "  </thead>\n",
       "  <tbody>\n",
       "    <tr>\n",
       "      <th>0</th>\n",
       "      <td>1970</td>\n",
       "      <td>[introduces]</td>\n",
       "      <td>[young]</td>\n",
       "    </tr>\n",
       "    <tr>\n",
       "      <th>1</th>\n",
       "      <td>1970</td>\n",
       "      <td>[decides]</td>\n",
       "      <td>[]</td>\n",
       "    </tr>\n",
       "    <tr>\n",
       "      <th>2</th>\n",
       "      <td>1970</td>\n",
       "      <td>[moves]</td>\n",
       "      <td>[]</td>\n",
       "    </tr>\n",
       "    <tr>\n",
       "      <th>3</th>\n",
       "      <td>1970</td>\n",
       "      <td>[meets]</td>\n",
       "      <td>[]</td>\n",
       "    </tr>\n",
       "    <tr>\n",
       "      <th>4</th>\n",
       "      <td>1970</td>\n",
       "      <td>[]</td>\n",
       "      <td>[]</td>\n",
       "    </tr>\n",
       "  </tbody>\n",
       "</table>\n",
       "</div>"
      ],
      "text/plain": [
       "      0             1        2\n",
       "0  1970  [introduces]  [young]\n",
       "1  1970     [decides]       []\n",
       "2  1970       [moves]       []\n",
       "3  1970       [meets]       []\n",
       "4  1970            []       []"
      ]
     },
     "execution_count": 161,
     "metadata": {},
     "output_type": "execute_result"
    }
   ],
   "source": [
    "df_f_adv=pd.read_csv(\"C:\\\\Users\\\\prash\\\\docu3c\\\\Bollywood-Data-master\\\\wikipedia-data\\\\female_adjverb.csv\", on_bad_lines='skip', header=None)\n",
    "df_f_adv.head()"
   ]
  },
  {
   "cell_type": "code",
   "execution_count": 162,
   "id": "d5726fc4-762f-4407-8466-c24b564d6350",
   "metadata": {},
   "outputs": [
    {
     "data": {
      "text/html": [
       "<div>\n",
       "<style scoped>\n",
       "    .dataframe tbody tr th:only-of-type {\n",
       "        vertical-align: middle;\n",
       "    }\n",
       "\n",
       "    .dataframe tbody tr th {\n",
       "        vertical-align: top;\n",
       "    }\n",
       "\n",
       "    .dataframe thead th {\n",
       "        text-align: right;\n",
       "    }\n",
       "</style>\n",
       "<table border=\"1\" class=\"dataframe\">\n",
       "  <thead>\n",
       "    <tr style=\"text-align: right;\">\n",
       "      <th></th>\n",
       "      <th>Movie Name</th>\n",
       "      <th>Cast Name</th>\n",
       "      <th>Total Centrality</th>\n",
       "      <th>Average Centrality</th>\n",
       "    </tr>\n",
       "  </thead>\n",
       "  <tbody>\n",
       "    <tr>\n",
       "      <th>0</th>\n",
       "      <td>Aan Milo Sajna</td>\n",
       "      <td>anil</td>\n",
       "      <td>9219.200000</td>\n",
       "      <td>70.375573</td>\n",
       "    </tr>\n",
       "    <tr>\n",
       "      <th>1</th>\n",
       "      <td>Bachpan</td>\n",
       "      <td>tom</td>\n",
       "      <td>29.000000</td>\n",
       "      <td>0.491525</td>\n",
       "    </tr>\n",
       "    <tr>\n",
       "      <th>2</th>\n",
       "      <td>Bachpan</td>\n",
       "      <td>father</td>\n",
       "      <td>469.333333</td>\n",
       "      <td>7.449735</td>\n",
       "    </tr>\n",
       "    <tr>\n",
       "      <th>3</th>\n",
       "      <td>Bachpan</td>\n",
       "      <td>rahim</td>\n",
       "      <td>0.000000</td>\n",
       "      <td>0.000000</td>\n",
       "    </tr>\n",
       "    <tr>\n",
       "      <th>4</th>\n",
       "      <td>Aag Aur Shola</td>\n",
       "      <td>nagesh</td>\n",
       "      <td>94.000000</td>\n",
       "      <td>2.473684</td>\n",
       "    </tr>\n",
       "  </tbody>\n",
       "</table>\n",
       "</div>"
      ],
      "text/plain": [
       "       Movie Name  Cast Name   Total Centrality   Average Centrality\n",
       "0  Aan Milo Sajna       anil        9219.200000            70.375573\n",
       "1         Bachpan        tom          29.000000             0.491525\n",
       "2         Bachpan     father         469.333333             7.449735\n",
       "3         Bachpan      rahim           0.000000             0.000000\n",
       "4   Aag Aur Shola     nagesh          94.000000             2.473684"
      ]
     },
     "execution_count": 162,
     "metadata": {},
     "output_type": "execute_result"
    }
   ],
   "source": [
    "df_m_c=pd.read_csv(\"C:\\\\Users\\\\prash\\\\docu3c\\\\Bollywood-Data-master\\\\wikipedia-data\\\\male_centrality.csv\", on_bad_lines='skip')\n",
    "df_m_c.head()"
   ]
  },
  {
   "cell_type": "code",
   "execution_count": 163,
   "id": "34437899-c1c0-4334-8649-e8b55621d96e",
   "metadata": {},
   "outputs": [
    {
     "data": {
      "text/html": [
       "<div>\n",
       "<style scoped>\n",
       "    .dataframe tbody tr th:only-of-type {\n",
       "        vertical-align: middle;\n",
       "    }\n",
       "\n",
       "    .dataframe tbody tr th {\n",
       "        vertical-align: top;\n",
       "    }\n",
       "\n",
       "    .dataframe thead th {\n",
       "        text-align: right;\n",
       "    }\n",
       "</style>\n",
       "<table border=\"1\" class=\"dataframe\">\n",
       "  <thead>\n",
       "    <tr style=\"text-align: right;\">\n",
       "      <th></th>\n",
       "      <th>Movie Name</th>\n",
       "      <th>Cast Name</th>\n",
       "      <th>Total Centrality</th>\n",
       "      <th>Average Centrality</th>\n",
       "    </tr>\n",
       "  </thead>\n",
       "  <tbody>\n",
       "    <tr>\n",
       "      <th>0</th>\n",
       "      <td>Aan Milo Sajna</td>\n",
       "      <td>woman</td>\n",
       "      <td>222.500000</td>\n",
       "      <td>18.541667</td>\n",
       "    </tr>\n",
       "    <tr>\n",
       "      <th>1</th>\n",
       "      <td>Aan Milo Sajna</td>\n",
       "      <td>savitri</td>\n",
       "      <td>868.166667</td>\n",
       "      <td>6.627226</td>\n",
       "    </tr>\n",
       "    <tr>\n",
       "      <th>2</th>\n",
       "      <td>Aan Milo Sajna</td>\n",
       "      <td>deepali</td>\n",
       "      <td>0.000000</td>\n",
       "      <td>0.000000</td>\n",
       "    </tr>\n",
       "    <tr>\n",
       "      <th>3</th>\n",
       "      <td>Abhinetri</td>\n",
       "      <td>anjana</td>\n",
       "      <td>319.000000</td>\n",
       "      <td>4.037975</td>\n",
       "    </tr>\n",
       "    <tr>\n",
       "      <th>4</th>\n",
       "      <td>Aag Aur Shola</td>\n",
       "      <td>usha</td>\n",
       "      <td>48.000000</td>\n",
       "      <td>0.888889</td>\n",
       "    </tr>\n",
       "  </tbody>\n",
       "</table>\n",
       "</div>"
      ],
      "text/plain": [
       "       Movie Name  Cast Name   Total Centrality   Average Centrality\n",
       "0  Aan Milo Sajna      woman         222.500000            18.541667\n",
       "1  Aan Milo Sajna    savitri         868.166667             6.627226\n",
       "2  Aan Milo Sajna    deepali           0.000000             0.000000\n",
       "3       Abhinetri     anjana         319.000000             4.037975\n",
       "4   Aag Aur Shola       usha          48.000000             0.888889"
      ]
     },
     "execution_count": 163,
     "metadata": {},
     "output_type": "execute_result"
    }
   ],
   "source": [
    "df_f_c=pd.read_csv(\"C:\\\\Users\\\\prash\\\\docu3c\\\\Bollywood-Data-master\\\\wikipedia-data\\\\female_centrality.csv\", on_bad_lines='skip')\n",
    "df_f_c.head()"
   ]
  },
  {
   "cell_type": "code",
   "execution_count": 164,
   "id": "704ee775-24f0-4536-b42e-93e27534a97b",
   "metadata": {},
   "outputs": [
    {
     "data": {
      "text/html": [
       "<div>\n",
       "<style scoped>\n",
       "    .dataframe tbody tr th:only-of-type {\n",
       "        vertical-align: middle;\n",
       "    }\n",
       "\n",
       "    .dataframe tbody tr th {\n",
       "        vertical-align: top;\n",
       "    }\n",
       "\n",
       "    .dataframe thead th {\n",
       "        text-align: right;\n",
       "    }\n",
       "</style>\n",
       "<table border=\"1\" class=\"dataframe\">\n",
       "  <thead>\n",
       "    <tr style=\"text-align: right;\">\n",
       "      <th></th>\n",
       "      <th>MOVIE NAME</th>\n",
       "      <th>CAST</th>\n",
       "      <th>MENTIONS</th>\n",
       "      <th>TOTAL CENTRALITY</th>\n",
       "      <th>COUNT</th>\n",
       "      <th>AVERAGE CENTRALITY</th>\n",
       "    </tr>\n",
       "  </thead>\n",
       "  <tbody>\n",
       "    <tr>\n",
       "      <th>0</th>\n",
       "      <td>Aan Milo Sajna</td>\n",
       "      <td>woman</td>\n",
       "      <td>2.0</td>\n",
       "      <td>222.500000</td>\n",
       "      <td>12.0</td>\n",
       "      <td>18.541667</td>\n",
       "    </tr>\n",
       "    <tr>\n",
       "      <th>1</th>\n",
       "      <td>Aan Milo Sajna</td>\n",
       "      <td>savitri</td>\n",
       "      <td>11.0</td>\n",
       "      <td>868.166667</td>\n",
       "      <td>131.0</td>\n",
       "      <td>6.627226</td>\n",
       "    </tr>\n",
       "    <tr>\n",
       "      <th>2</th>\n",
       "      <td>Aan Milo Sajna</td>\n",
       "      <td>deepali</td>\n",
       "      <td>4.0</td>\n",
       "      <td>0.000000</td>\n",
       "      <td>89.0</td>\n",
       "      <td>0.000000</td>\n",
       "    </tr>\n",
       "    <tr>\n",
       "      <th>3</th>\n",
       "      <td>Abhinetri</td>\n",
       "      <td>anjana</td>\n",
       "      <td>9.0</td>\n",
       "      <td>319.000000</td>\n",
       "      <td>79.0</td>\n",
       "      <td>4.037975</td>\n",
       "    </tr>\n",
       "    <tr>\n",
       "      <th>4</th>\n",
       "      <td>Aag Aur Shola</td>\n",
       "      <td>usha</td>\n",
       "      <td>6.0</td>\n",
       "      <td>48.000000</td>\n",
       "      <td>54.0</td>\n",
       "      <td>0.888889</td>\n",
       "    </tr>\n",
       "  </tbody>\n",
       "</table>\n",
       "</div>"
      ],
      "text/plain": [
       "       MOVIE NAME     CAST   MENTIONS   TOTAL CENTRALITY   COUNT  \\\n",
       "0  Aan Milo Sajna    woman        2.0         222.500000    12.0   \n",
       "1  Aan Milo Sajna  savitri       11.0         868.166667   131.0   \n",
       "2  Aan Milo Sajna  deepali        4.0           0.000000    89.0   \n",
       "3       Abhinetri   anjana        9.0         319.000000    79.0   \n",
       "4   Aag Aur Shola     usha        6.0          48.000000    54.0   \n",
       "\n",
       "    AVERAGE CENTRALITY  \n",
       "0            18.541667  \n",
       "1             6.627226  \n",
       "2             0.000000  \n",
       "3             4.037975  \n",
       "4             0.888889  "
      ]
     },
     "execution_count": 164,
     "metadata": {},
     "output_type": "execute_result"
    }
   ],
   "source": [
    "df_f_mc=pd.read_csv(\"C:\\\\Users\\\\prash\\\\docu3c\\\\Bollywood-Data-master\\\\wikipedia-data\\\\female_mentions_centrality.csv\", on_bad_lines='skip')\n",
    "df_f_mc.head()"
   ]
  },
  {
   "cell_type": "code",
   "execution_count": 165,
   "id": "e19fa27e-6fd3-43e9-91ae-912e00b88038",
   "metadata": {},
   "outputs": [
    {
     "data": {
      "text/html": [
       "<div>\n",
       "<style scoped>\n",
       "    .dataframe tbody tr th:only-of-type {\n",
       "        vertical-align: middle;\n",
       "    }\n",
       "\n",
       "    .dataframe tbody tr th {\n",
       "        vertical-align: top;\n",
       "    }\n",
       "\n",
       "    .dataframe thead th {\n",
       "        text-align: right;\n",
       "    }\n",
       "</style>\n",
       "<table border=\"1\" class=\"dataframe\">\n",
       "  <thead>\n",
       "    <tr style=\"text-align: right;\">\n",
       "      <th></th>\n",
       "      <th>MOVIE NAME</th>\n",
       "      <th>CAST</th>\n",
       "      <th>MENTIONS</th>\n",
       "      <th>TOTAL CENTRALITY</th>\n",
       "      <th>COUNT</th>\n",
       "      <th>AVERAGE CENTRALITY</th>\n",
       "    </tr>\n",
       "  </thead>\n",
       "  <tbody>\n",
       "    <tr>\n",
       "      <th>0</th>\n",
       "      <td>Aan Milo Sajna</td>\n",
       "      <td>anil</td>\n",
       "      <td>13.0</td>\n",
       "      <td>9219.200000</td>\n",
       "      <td>131.0</td>\n",
       "      <td>70.375573</td>\n",
       "    </tr>\n",
       "    <tr>\n",
       "      <th>1</th>\n",
       "      <td>Bachpan</td>\n",
       "      <td>tom</td>\n",
       "      <td>11.0</td>\n",
       "      <td>29.000000</td>\n",
       "      <td>59.0</td>\n",
       "      <td>0.491525</td>\n",
       "    </tr>\n",
       "    <tr>\n",
       "      <th>2</th>\n",
       "      <td>Bachpan</td>\n",
       "      <td>father</td>\n",
       "      <td>5.0</td>\n",
       "      <td>469.333333</td>\n",
       "      <td>63.0</td>\n",
       "      <td>7.449735</td>\n",
       "    </tr>\n",
       "    <tr>\n",
       "      <th>3</th>\n",
       "      <td>Bachpan</td>\n",
       "      <td>rahim</td>\n",
       "      <td>2.0</td>\n",
       "      <td>0.000000</td>\n",
       "      <td>29.0</td>\n",
       "      <td>0.000000</td>\n",
       "    </tr>\n",
       "    <tr>\n",
       "      <th>4</th>\n",
       "      <td>Aag Aur Shola</td>\n",
       "      <td>nagesh</td>\n",
       "      <td>4.0</td>\n",
       "      <td>94.000000</td>\n",
       "      <td>38.0</td>\n",
       "      <td>2.473684</td>\n",
       "    </tr>\n",
       "  </tbody>\n",
       "</table>\n",
       "</div>"
      ],
      "text/plain": [
       "       MOVIE NAME    CAST   MENTIONS   TOTAL CENTRALITY   COUNT  \\\n",
       "0  Aan Milo Sajna    anil       13.0        9219.200000   131.0   \n",
       "1         Bachpan     tom       11.0          29.000000    59.0   \n",
       "2         Bachpan  father        5.0         469.333333    63.0   \n",
       "3         Bachpan   rahim        2.0           0.000000    29.0   \n",
       "4   Aag Aur Shola  nagesh        4.0          94.000000    38.0   \n",
       "\n",
       "    AVERAGE CENTRALITY  \n",
       "0            70.375573  \n",
       "1             0.491525  \n",
       "2             7.449735  \n",
       "3             0.000000  \n",
       "4             2.473684  "
      ]
     },
     "execution_count": 165,
     "metadata": {},
     "output_type": "execute_result"
    }
   ],
   "source": [
    "df_m_mc=pd.read_csv(\"C:\\\\Users\\\\prash\\\\docu3c\\\\Bollywood-Data-master\\\\wikipedia-data\\\\male_mentions_centrality.csv\", on_bad_lines='skip')\n",
    "df_m_mc.head()"
   ]
  },
  {
   "cell_type": "code",
   "execution_count": 166,
   "id": "25780e04-3a62-45fb-b579-ef8ad81ddfae",
   "metadata": {},
   "outputs": [
    {
     "name": "stdout",
     "output_type": "stream",
     "text": [
      "         0             1\n",
      "0     1970  [introduces]\n",
      "1     1970     [decides]\n",
      "2     1970       [moves]\n",
      "3     1970       [plays]\n",
      "4     1970       [meets]\n",
      "...    ...           ...\n",
      "3514  2008            []\n",
      "3515  2008     [resents]\n",
      "3516  2008            []\n",
      "3517  2008     [arrives]\n",
      "3518  1971            []\n",
      "\n",
      "[3519 rows x 2 columns]\n"
     ]
    }
   ],
   "source": [
    "df_f_v=pd.read_csv(\"C:\\\\Users\\\\prash\\\\docu3c\\\\Bollywood-Data-master\\\\wikipedia-data\\\\female_verb.csv\", on_bad_lines='skip', header=None)\n",
    "# df_f_v.head()\n",
    "print(df_f_v)"
   ]
  },
  {
   "cell_type": "code",
   "execution_count": 167,
   "id": "6adc9421-9853-4407-a3c0-8642d6fcad18",
   "metadata": {},
   "outputs": [
    {
     "name": "stdout",
     "output_type": "stream",
     "text": [
      "         0            1\n",
      "0     1970  [convinces]\n",
      "1     1970           []\n",
      "2     1970      [lives]\n",
      "3     1970      [lives]\n",
      "4     1970           []\n",
      "...    ...          ...\n",
      "6312  2008           []\n",
      "6313  1971           []\n",
      "6314  1971       [gets]\n",
      "6315  1971      [moves]\n",
      "6316  1971      [comes]\n",
      "\n",
      "[6317 rows x 2 columns]\n"
     ]
    }
   ],
   "source": [
    "df_m_v=pd.read_csv(\"C:\\\\Users\\\\prash\\\\docu3c\\\\Bollywood-Data-master\\\\wikipedia-data\\\\male_verb.csv\", on_bad_lines='skip', header=None)\n",
    "print(df_m_v)"
   ]
  },
  {
   "cell_type": "code",
   "execution_count": 168,
   "id": "e0b9e125-9de2-452e-b3ed-6b2fdfe9cc7f",
   "metadata": {},
   "outputs": [],
   "source": [
    "avg_wv=pd.read_csv(\"C:\\\\Users\\\\prash\\\\docu3c\\\\Bollywood-Data-master\\\\wikipedia-data\\\\avg_wv_relation.csv\", on_bad_lines='skip', header=None)"
   ]
  },
  {
   "cell_type": "code",
   "execution_count": 169,
   "id": "1fa29a11-4b65-4c47-b335-3f2149e97651",
   "metadata": {},
   "outputs": [
    {
     "name": "stdout",
     "output_type": "stream",
     "text": [
      "                               0        1  \\\n",
      "0           woman_Aan Milo Sajna   FEMALE   \n",
      "1            Anil_Aan Milo Sajna     MALE   \n",
      "2         Savitri_Aan Milo Sajna   FEMALE   \n",
      "3         Deepali_Aan Milo Sajna   FEMALE   \n",
      "4               Shekar_Abhinetri  UNKNOWN   \n",
      "...                          ...      ...   \n",
      "16929              son_Amar Prem     MALE   \n",
      "16930            Nandu_Amar Prem     MALE   \n",
      "16931              man_Amar Prem     MALE   \n",
      "16932          brother_Amar Prem     MALE   \n",
      "16933  Neena_Aap Aye Bahaar Ayee   FEMALE   \n",
      "\n",
      "                                                       2  \\\n",
      "0                                                  young   \n",
      "1                                                    NaN   \n",
      "2                                                    NaN   \n",
      "3                                                    NaN   \n",
      "4                                                    NaN   \n",
      "...                                                  ...   \n",
      "16929                                                NaN   \n",
      "16930  father, son, child, son, father, son, child, s...   \n",
      "16931                                            widowed   \n",
      "16932                                                NaN   \n",
      "16933                                          beautiful   \n",
      "\n",
      "                                                       3  \n",
      "0      -0.105138 -0.029248 -0.063298 -0.007706 -0.180...  \n",
      "1                                                    0.0  \n",
      "2                                                    0.0  \n",
      "3                                                    0.0  \n",
      "4                                                    0.0  \n",
      "...                                                  ...  \n",
      "16929                                                0.0  \n",
      "16930  -0.23198492  0.14436969 -0.30562062 -0.1734   ...  \n",
      "16931  -0.140482 -0.203134  0.07209   0.117395 -0.394...  \n",
      "16932                                                0.0  \n",
      "16933  -0.063443  0.032496 -0.119177 -0.072262 -0.050...  \n",
      "\n",
      "[16934 rows x 4 columns]\n"
     ]
    }
   ],
   "source": [
    "print(avg_wv)"
   ]
  },
  {
   "cell_type": "code",
   "execution_count": 170,
   "id": "5c33497f-9660-4cfe-994a-682b7fb95166",
   "metadata": {},
   "outputs": [
    {
     "name": "stdout",
     "output_type": "stream",
     "text": [
      "       Unnamed: 0      Movie Name  \\\n",
      "0               0  Aan Milo Sajna   \n",
      "1               1  Aan Milo Sajna   \n",
      "2               2  Aan Milo Sajna   \n",
      "3               3  Aan Milo Sajna   \n",
      "4               4  Aan Milo Sajna   \n",
      "...           ...             ...   \n",
      "34723       34723  Jo Hum Chahein   \n",
      "34724       34724  Jo Hum Chahein   \n",
      "34725       34725  Jo Hum Chahein   \n",
      "34726       34726  Jo Hum Chahein   \n",
      "34727       34727  Jo Hum Chahein   \n",
      "\n",
      "                                              Coref Plot  \n",
      "0       Widowed and ailing Savitri Choudhury lives a ...  \n",
      "1       Savitri knows that Anil is only waiting for S...  \n",
      "2       The Diwan convinces Anil to mend Anil ways  g...  \n",
      "3       Shortly thereafter Anil does appear to have m...  \n",
      "4       Deepali moves in the mansion  looks after Sav...  \n",
      "...                                                  ...  \n",
      "34723   Rohan discovers Amrita and Vikram were just u...  \n",
      "34724   Rohan apologizes to Rohan father for all Roha...  \n",
      "34725   Neha was n't ready for a child and was only h...  \n",
      "34726   Rohan is shattered  Neha apologizes and asks ...  \n",
      "34727   Heartbroken  Heartbroken embrace and accept e...  \n",
      "\n",
      "[34728 rows x 3 columns]\n"
     ]
    }
   ],
   "source": [
    "coref_plot=pd.read_csv(\"C:\\\\Users\\\\prash\\\\docu3c\\\\Bollywood-Data-master\\\\wikipedia-data\\\\coref_plot.csv\", on_bad_lines='skip' )\n",
    "print(coref_plot)"
   ]
  },
  {
   "cell_type": "code",
   "execution_count": 171,
   "id": "ff800aaf-6a53-4b74-81ef-4c9e91b62b23",
   "metadata": {},
   "outputs": [
    {
     "name": "stdout",
     "output_type": "stream",
     "text": [
      "                                      0\n",
      "0       Aag Aur Daag;0;0;0;[];[];[];1;1\n",
      "1  Aansoo Aur Muskan;0;0;0;[];[];[];1;0\n",
      "2  Bhagwan Parshuram;0;0;0;[];[];[];1;1\n",
      "3          Bhai-Bhai;0;0;0;[];[];[];0;0\n",
      "4     Choron Ka Chor;0;0;0;[];[];[];0;0\n"
     ]
    }
   ],
   "source": [
    "img_plot=pd.read_csv(\"C:\\\\Users\\\\prash\\\\docu3c\\\\Bollywood-Data-master\\\\wikipedia-data\\\\image_and_plot_mentions_fequency.csv\", on_bad_lines='skip', header=None)\n",
    "print(img_plot.head())"
   ]
  },
  {
   "cell_type": "code",
   "execution_count": 172,
   "id": "c401e8d0-94db-4f2f-9a80-74444592923c",
   "metadata": {},
   "outputs": [
    {
     "name": "stdout",
     "output_type": "stream",
     "text": [
      "Index([0, 1], dtype='int64')\n",
      "Index([0, 1], dtype='int64')\n"
     ]
    }
   ],
   "source": [
    "print(df_m_adj.columns)\n",
    "print(df_f_adj.columns)"
   ]
  },
  {
   "cell_type": "code",
   "execution_count": 173,
   "id": "e3e138d6-415b-4632-945f-10e1cec60ed6",
   "metadata": {},
   "outputs": [],
   "source": [
    "df_f_adj_clean=df_f_adj[df_f_adj[1]!=\"[]\"]\n",
    "df_m_adj_clean=df_m_adj[df_m_adj[1]!=\"[]\"]\n",
    "top_f_adj=df_f_adj_clean[1].value_counts().head(15)\n",
    "top_m_adj=df_m_adj_clean[1].value_counts().head(15)"
   ]
  },
  {
   "cell_type": "code",
   "execution_count": 174,
   "id": "57c14f8e-6ed8-4037-8e45-db3e91236593",
   "metadata": {},
   "outputs": [
    {
     "name": "stdout",
     "output_type": "stream",
     "text": [
      "1\n",
      "[young]        123\n",
      "[beautiful]     55\n",
      "[rich]          31\n",
      "[sister]        29\n",
      "[little]        27\n",
      "[widowed]       27\n",
      "[real]          22\n",
      "[pregnant]      22\n",
      "[old]           20\n",
      "[poor]          20\n",
      "[wealthy]       18\n",
      "[new]           14\n",
      "[single]        10\n",
      "[innocent]      10\n",
      "[Muslim]        10\n",
      "Name: count, dtype: int64\n"
     ]
    }
   ],
   "source": [
    "print(top_f_adj)"
   ]
  },
  {
   "cell_type": "code",
   "execution_count": 175,
   "id": "8e86fc95-72ce-4ed0-b1f1-695379c52f9c",
   "metadata": {},
   "outputs": [
    {
     "name": "stdout",
     "output_type": "stream",
     "text": [
      "1\n",
      "[young]       151\n",
      "[old]          47\n",
      "[real]         39\n",
      "[wealthy]      38\n",
      "[rich]         36\n",
      "[local]        31\n",
      "[new]          21\n",
      "[honest]       21\n",
      "[dead]         21\n",
      "[twin]         19\n",
      "[late]         17\n",
      "[poor]         17\n",
      "[second]       16\n",
      "[powerful]     14\n",
      "[little]       14\n",
      "Name: count, dtype: int64\n"
     ]
    }
   ],
   "source": [
    "print(top_m_adj)"
   ]
  },
  {
   "cell_type": "code",
   "execution_count": 176,
   "id": "ea8bcaf2-c6a6-482c-96d3-a7b3114eef41",
   "metadata": {},
   "outputs": [],
   "source": [
    "df_plot=pd.DataFrame({'adjective':list(set(top_f_adj.index).union(set(top_m_adj.index)))})\n",
    "df_plot['female']=df_plot['adjective'].map(top_f_adj).fillna(0)\n",
    "df_plot['male']=df_plot['adjective'].map(top_m_adj).fillna(0)"
   ]
  },
  {
   "cell_type": "code",
   "execution_count": 177,
   "id": "0b5250c5-cfae-4d5e-b3fe-55a3844e6b0e",
   "metadata": {},
   "outputs": [],
   "source": [
    "mat_plot_melted=df_plot.melt(id_vars='adjective', value_vars=['female', 'male'], var_name='gender', value_name='count')"
   ]
  },
  {
   "cell_type": "code",
   "execution_count": 178,
   "id": "dee5f4d6-f515-4e37-b633-25a65ebd8c6d",
   "metadata": {},
   "outputs": [
    {
     "data": {
      "image/png": "[encoded data removed]",
      "text/plain": [
       "<Figure size 1200x600 with 1 Axes>"
      ]
     },
     "metadata": {},
     "output_type": "display_data"
    }
   ],
   "source": [
    "import seaborn as sns\n",
    "import matplotlib.pyplot as plt\n",
    "plt.subplots(figsize=(12,6))\n",
    "sns.barplot(data=mat_plot_melted, x='adjective', y='count', hue='gender', palette={'female': 'pink', 'male': 'blue'})\n",
    "plt.title(\"Top adjectives by gender\")\n",
    "plt.xticks(rotation=45)\n",
    "plt.ylabel(\"Frequency\")\n",
    "plt.xlabel(\"Adjective\")\n",
    "plt.legend(title='Gender')\n",
    "plt.tight_layout()\n",
    "plt.show()"
   ]
  },
  {
   "cell_type": "code",
   "execution_count": 179,
   "id": "a41b6fb4-c5e7-4a51-9238-1e5ca35263ce",
   "metadata": {},
   "outputs": [
    {
     "name": "stderr",
     "output_type": "stream",
     "text": [
      "C:\\Users\\prash\\anaconda3\\Lib\\site-packages\\seaborn\\_oldcore.py:1119: FutureWarning: use_inf_as_na option is deprecated and will be removed in a future version. Convert inf values to NaN before operating instead.\n",
      "  with pd.option_context('mode.use_inf_as_na', True):\n",
      "C:\\Users\\prash\\anaconda3\\Lib\\site-packages\\seaborn\\_oldcore.py:1119: FutureWarning: use_inf_as_na option is deprecated and will be removed in a future version. Convert inf values to NaN before operating instead.\n",
      "  with pd.option_context('mode.use_inf_as_na', True):\n"
     ]
    },
    {
     "data": {
      "image/png": "[encoded data removed]",
      "text/plain": [
       "<Figure size 1200x600 with 1 Axes>"
      ]
     },
     "metadata": {},
     "output_type": "display_data"
    }
   ],
   "source": [
    "import seaborn as sns\n",
    "import matplotlib.pyplot as plt\n",
    "plt.subplots(figsize=(12,6))\n",
    "sns.lineplot(data=mat_plot_melted, x='adjective', y='count', hue='gender', marker='o', linewidth=2.5, palette='Set1')\n",
    "plt.title(\"Top adjectives by gender\")\n",
    "plt.xticks(rotation=45)\n",
    "plt.ylabel(\"Frequency\")\n",
    "plt.xlabel(\"Adjective\")\n",
    "plt.grid(True)\n",
    "plt.tight_layout()\n",
    "plt.show()"
   ]
  },
  {
   "cell_type": "code",
   "execution_count": 198,
   "id": "a2fb9e25-5fd3-44b6-9e58-b333c5cb2b9b",
   "metadata": {},
   "outputs": [],
   "source": [
    "# print(df_f_adv)"
   ]
  },
  {
   "cell_type": "code",
   "execution_count": 199,
   "id": "f72c4c90-8428-4497-a254-db2298821549",
   "metadata": {},
   "outputs": [],
   "source": [
    "# df_f_adv_melted=df_f_adv.melt(id_vars=0, value_vars=[1, 2], var_name='adjverb_col', value_name='adjverb')\n",
    "# df_m_adv_melted=df_m_adv.melt(id_vars=0, value_vars=[1, 2], var_name='adjverb_col', value_name='adjverb')\n",
    "# print(df_f_adv_melted)\n",
    "# print(df_m_adv_melted.head())"
   ]
  },
  {
   "cell_type": "code",
   "execution_count": 200,
   "id": "e20b9488-6532-4c77-b6e0-6cd1e15f5892",
   "metadata": {},
   "outputs": [],
   "source": [
    "# #conerting adverbs in 2 columns into one column , repeating the year entry and add a new entry for data in second column\n",
    "# adv_cols=df_f_adv.columns[1:] #assuming year is in column 0\n",
    "# adjverbs_f=df_f_adv[adv_cols].stack().reset_index(drop=True).to_frame(name='adjverb')\n",
    "# adv_cols=df_m_adv.columns[1:] #assuming year is in column 0\n",
    "# adjverbs_m=df_m_adv[adv_cols].stack().reset_index(drop=True).to_frame(name='adjverb')"
   ]
  },
  {
   "cell_type": "code",
   "execution_count": 201,
   "id": "47d18e09-74c7-44bf-988c-1a8829e3f027",
   "metadata": {},
   "outputs": [],
   "source": [
    "def clean_brackets(df, column):\n",
    "    df[column]=df[column].astype(str).str.strip(\"[]\").str.replace(\"'\", \"\").str.strip().str.lower()\n",
    "    return df\n",
    "\n",
    "df_f_adj=clean_brackets(df_f_adj, df_f_adj.columns[1])\n",
    "df_m_adj=clean_brackets(df_m_adj, df_m_adj.columns[1])\n",
    "df_f_v=clean_brackets(df_f_v, df_f_v.columns[1])\n",
    "df_m_v=clean_brackets(df_m_v, df_m_v.columns[1])\n",
    "# adjverbs_m=clean_brackets(adjverbs_m, adjverbs_m.columns[0])\n",
    "# adjverbs_f=clean_brackets(adjverbs_f, adjverbs_f.columns[0])\n"
   ]
  },
  {
   "cell_type": "code",
   "execution_count": 202,
   "id": "483d9610-e72b-4192-b39e-99650bd651e9",
   "metadata": {},
   "outputs": [
    {
     "name": "stdout",
     "output_type": "stream",
     "text": [
      "Index(['year', 'adjective'], dtype='object')\n"
     ]
    }
   ],
   "source": [
    "def drop_empty(df, column):\n",
    "    df=df[df[column].astype(bool)]\n",
    "    df=df[df[column].str.strip()!=\"\"]\n",
    "    return df\n",
    "df_f_adj=drop_empty(df_f_adj, df_f_adj.columns[1]) #droping rows since axis is 0 by default\n",
    "df_m_adj=drop_empty(df_m_adj, df_m_adj.columns[1])\n",
    "df_f_v=drop_empty(df_f_v, df_f_v.columns[1])\n",
    "df_m_v=drop_empty(df_m_v, df_m_v.columns[1])\n",
    "print(df_m_adj.columns)"
   ]
  },
  {
   "cell_type": "code",
   "execution_count": 203,
   "id": "fefba1dc-1bdd-4fc6-8202-7fc30b38edf1",
   "metadata": {},
   "outputs": [],
   "source": [
    "df_f_adj.columns=['year', 'adjective']\n",
    "df_m_adj.columns=['year', 'adjective']\n",
    "df_f_v.columns=['year', 'verb']\n",
    "df_m_v.columns=['year', 'verb']"
   ]
  },
  {
   "cell_type": "code",
   "execution_count": 204,
   "id": "9832feb7-5733-40d4-986d-773a416871eb",
   "metadata": {},
   "outputs": [],
   "source": [
    "# adjverbs_f['adjverb']=adjverbs['adjverb'].astype(str).str.strip(\"[]\")"
   ]
  },
  {
   "cell_type": "code",
   "execution_count": 210,
   "id": "8a7828a2-eb6b-428f-ac61-11bfc4e445f0",
   "metadata": {},
   "outputs": [],
   "source": [
    "df_f_adj['gender']='female'\n",
    "df_m_adj['gender']='male'\n",
    "df_all_adj=pd.concat([df_f_adj, df_m_adj], ignore_index=True)\n",
    "df_f_v['gender']='female'\n",
    "df_m_v['gender']='male'\n",
    "df_all_v=pd.concat([df_f_v, df_m_v], ignore_index=True)"
   ]
  },
  {
   "cell_type": "code",
   "execution_count": 211,
   "id": "c9288494-a10e-4e38-bf7b-22f01b12c539",
   "metadata": {},
   "outputs": [
    {
     "data": {
      "text/html": [
       "<div>\n",
       "<style scoped>\n",
       "    .dataframe tbody tr th:only-of-type {\n",
       "        vertical-align: middle;\n",
       "    }\n",
       "\n",
       "    .dataframe tbody tr th {\n",
       "        vertical-align: top;\n",
       "    }\n",
       "\n",
       "    .dataframe thead th {\n",
       "        text-align: right;\n",
       "    }\n",
       "</style>\n",
       "<table border=\"1\" class=\"dataframe\">\n",
       "  <thead>\n",
       "    <tr style=\"text-align: right;\">\n",
       "      <th></th>\n",
       "      <th>year</th>\n",
       "      <th>verb</th>\n",
       "      <th>gender</th>\n",
       "    </tr>\n",
       "  </thead>\n",
       "  <tbody>\n",
       "    <tr>\n",
       "      <th>0</th>\n",
       "      <td>1970</td>\n",
       "      <td>introduces</td>\n",
       "      <td>female</td>\n",
       "    </tr>\n",
       "    <tr>\n",
       "      <th>1</th>\n",
       "      <td>1970</td>\n",
       "      <td>decides</td>\n",
       "      <td>female</td>\n",
       "    </tr>\n",
       "    <tr>\n",
       "      <th>2</th>\n",
       "      <td>1970</td>\n",
       "      <td>moves</td>\n",
       "      <td>female</td>\n",
       "    </tr>\n",
       "    <tr>\n",
       "      <th>3</th>\n",
       "      <td>1970</td>\n",
       "      <td>plays</td>\n",
       "      <td>female</td>\n",
       "    </tr>\n",
       "    <tr>\n",
       "      <th>4</th>\n",
       "      <td>1970</td>\n",
       "      <td>meets</td>\n",
       "      <td>female</td>\n",
       "    </tr>\n",
       "  </tbody>\n",
       "</table>\n",
       "</div>"
      ],
      "text/plain": [
       "   year        verb  gender\n",
       "0  1970  introduces  female\n",
       "1  1970     decides  female\n",
       "2  1970       moves  female\n",
       "3  1970       plays  female\n",
       "4  1970       meets  female"
      ]
     },
     "execution_count": 211,
     "metadata": {},
     "output_type": "execute_result"
    }
   ],
   "source": [
    "df_all_v.head()"
   ]
  },
  {
   "cell_type": "code",
   "execution_count": 207,
   "id": "611bba30-21d8-435a-8f50-ebaae414031f",
   "metadata": {},
   "outputs": [
    {
     "name": "stdout",
     "output_type": "stream",
     "text": [
      "      year       adjective  gender\n",
      "0     1970           young  female\n",
      "1     1970  unrecognizable  female\n",
      "2     1970          sister  female\n",
      "3     1970            real  female\n",
      "4     1970           young  female\n",
      "...    ...             ...     ...\n",
      "2538  2007           close    male\n",
      "2539  2008            rich    male\n",
      "2540  2008       reluctant    male\n",
      "2541  2008       reluctant    male\n",
      "2542  1971         widowed    male\n",
      "\n",
      "[2543 rows x 3 columns]\n"
     ]
    }
   ],
   "source": [
    "print(df_all_adj)"
   ]
  },
  {
   "cell_type": "code",
   "execution_count": 212,
   "id": "d6f6a994-07bc-462c-b987-57ffdd26f3b4",
   "metadata": {},
   "outputs": [],
   "source": [
    "df_f_adj.to_csv(\"C:\\\\Users\\\\prash\\\\docu3c\\\\Bollywood-Data-master\\\\wikipedia-data\\\\cleaned_female_adjectives.csv\", index=False)\n",
    "df_m_adj.to_csv(\"C:\\\\Users\\\\prash\\\\docu3c\\\\Bollywood-Data-master\\\\wikipedia-data\\\\cleaned_male_adjectives.csv\", index=False)\n",
    "df_all_adj.to_csv(\"C:\\\\Users\\\\prash\\\\docu3c\\\\Bollywood-Data-master\\\\wikipedia-data\\\\cleaned_combined_adjectives.csv\", index=False)\n",
    "df_f_v.to_csv(\"C:\\\\Users\\\\prash\\\\docu3c\\\\Bollywood-Data-master\\\\wikipedia-data\\\\cleaned_female_verb.csv\", index=False)\n",
    "df_m_v.to_csv(\"C:\\\\Users\\\\prash\\\\docu3c\\\\Bollywood-Data-master\\\\wikipedia-data\\\\cleaned_male_verb.csv\", index=False)\n",
    "df_all_v.to_csv(\"C:\\\\Users\\\\prash\\\\docu3c\\\\Bollywood-Data-master\\\\wikipedia-data\\\\cleaned_combined_verb.csv\", index=False)"
   ]
  },
  {
   "cell_type": "code",
   "execution_count": 231,
   "id": "d10330c2-5101-4d67-9b1b-5eae0ab4c020",
   "metadata": {},
   "outputs": [],
   "source": [
    "df_f_mc.columns=df_f_mc.columns.str.strip().str.lower() \n",
    "df_m_mc.columns=df_m_mc.columns.str.strip().str.lower() \n",
    "df_m_mc.rename(columns={ 'cast': 'character'}, inplace=True) # since we want to combine table for male and female so make sure that they have all the column name sames"
   ]
  },
  {
   "cell_type": "code",
   "execution_count": 232,
   "id": "8ed5e177-9e68-4607-bd69-791a050f6d43",
   "metadata": {},
   "outputs": [
    {
     "name": "stdout",
     "output_type": "stream",
     "text": [
      "['movie name', 'character', 'mentions', 'total centrality', 'count', 'average centrality', 'gender']\n",
      "['movie name', 'character', 'mentions', 'total centrality', 'count', 'average centrality', 'gender']\n"
     ]
    }
   ],
   "source": [
    "print(df_f_mc.columns.tolist())\n",
    "print(df_f_mc.columns.tolist())"
   ]
  },
  {
   "cell_type": "code",
   "execution_count": 233,
   "id": "3cf9614f-f064-4c79-8654-a95699c708ea",
   "metadata": {},
   "outputs": [
    {
     "data": {
      "text/html": [
       "<div>\n",
       "<style scoped>\n",
       "    .dataframe tbody tr th:only-of-type {\n",
       "        vertical-align: middle;\n",
       "    }\n",
       "\n",
       "    .dataframe tbody tr th {\n",
       "        vertical-align: top;\n",
       "    }\n",
       "\n",
       "    .dataframe thead th {\n",
       "        text-align: right;\n",
       "    }\n",
       "</style>\n",
       "<table border=\"1\" class=\"dataframe\">\n",
       "  <thead>\n",
       "    <tr style=\"text-align: right;\">\n",
       "      <th></th>\n",
       "      <th>movie name</th>\n",
       "      <th>character</th>\n",
       "      <th>mentions</th>\n",
       "      <th>total centrality</th>\n",
       "      <th>count</th>\n",
       "      <th>average centrality</th>\n",
       "      <th>gender</th>\n",
       "    </tr>\n",
       "  </thead>\n",
       "  <tbody>\n",
       "    <tr>\n",
       "      <th>0</th>\n",
       "      <td>Aan Milo Sajna</td>\n",
       "      <td>anil</td>\n",
       "      <td>13.0</td>\n",
       "      <td>9219.200000</td>\n",
       "      <td>131.0</td>\n",
       "      <td>70.375573</td>\n",
       "      <td>male</td>\n",
       "    </tr>\n",
       "    <tr>\n",
       "      <th>1</th>\n",
       "      <td>Bachpan</td>\n",
       "      <td>tom</td>\n",
       "      <td>11.0</td>\n",
       "      <td>29.000000</td>\n",
       "      <td>59.0</td>\n",
       "      <td>0.491525</td>\n",
       "      <td>male</td>\n",
       "    </tr>\n",
       "    <tr>\n",
       "      <th>2</th>\n",
       "      <td>Bachpan</td>\n",
       "      <td>father</td>\n",
       "      <td>5.0</td>\n",
       "      <td>469.333333</td>\n",
       "      <td>63.0</td>\n",
       "      <td>7.449735</td>\n",
       "      <td>male</td>\n",
       "    </tr>\n",
       "    <tr>\n",
       "      <th>3</th>\n",
       "      <td>Bachpan</td>\n",
       "      <td>rahim</td>\n",
       "      <td>2.0</td>\n",
       "      <td>0.000000</td>\n",
       "      <td>29.0</td>\n",
       "      <td>0.000000</td>\n",
       "      <td>male</td>\n",
       "    </tr>\n",
       "    <tr>\n",
       "      <th>4</th>\n",
       "      <td>Aag Aur Shola</td>\n",
       "      <td>nagesh</td>\n",
       "      <td>4.0</td>\n",
       "      <td>94.000000</td>\n",
       "      <td>38.0</td>\n",
       "      <td>2.473684</td>\n",
       "      <td>male</td>\n",
       "    </tr>\n",
       "  </tbody>\n",
       "</table>\n",
       "</div>"
      ],
      "text/plain": [
       "       movie name character  mentions  total centrality  count  \\\n",
       "0  Aan Milo Sajna      anil      13.0       9219.200000  131.0   \n",
       "1         Bachpan       tom      11.0         29.000000   59.0   \n",
       "2         Bachpan    father       5.0        469.333333   63.0   \n",
       "3         Bachpan     rahim       2.0          0.000000   29.0   \n",
       "4   Aag Aur Shola    nagesh       4.0         94.000000   38.0   \n",
       "\n",
       "   average centrality gender  \n",
       "0           70.375573   male  \n",
       "1            0.491525   male  \n",
       "2            7.449735   male  \n",
       "3            0.000000   male  \n",
       "4            2.473684   male  "
      ]
     },
     "execution_count": 233,
     "metadata": {},
     "output_type": "execute_result"
    }
   ],
   "source": [
    "df_f_mc['gender']='female'\n",
    "df_m_mc['gender']='male'\n",
    "df_m_mc.head()"
   ]
  },
  {
   "cell_type": "code",
   "execution_count": 234,
   "id": "fd8b9f2c-47fc-4dfc-b60c-ea972b03e78b",
   "metadata": {},
   "outputs": [
    {
     "name": "stdout",
     "output_type": "stream",
     "text": [
      "           movie name  character  mentions  total centrality  count  \\\n",
      "0      Aan Milo Sajna      woman       2.0        222.500000   12.0   \n",
      "1      Aan Milo Sajna    savitri      11.0        868.166667  131.0   \n",
      "2      Aan Milo Sajna    deepali       4.0          0.000000   89.0   \n",
      "3           Abhinetri     anjana       9.0        319.000000   79.0   \n",
      "4       Aag Aur Shola       usha       6.0         48.000000   54.0   \n",
      "...               ...        ...       ...               ...    ...   \n",
      "14396           Jumbo     father      12.0        517.666667  114.0   \n",
      "14397           Jumbo     akshay       2.0        429.500000   47.0   \n",
      "14398           Jumbo  bakhtavar       6.0        267.666667   47.0   \n",
      "14399           Jumbo   elephant      11.0        640.833333  106.0   \n",
      "14400           Jumbo     prince       5.0         95.666667   52.0   \n",
      "\n",
      "       average centrality  gender  \n",
      "0               18.541667  female  \n",
      "1                6.627226  female  \n",
      "2                0.000000  female  \n",
      "3                4.037975  female  \n",
      "4                0.888889  female  \n",
      "...                   ...     ...  \n",
      "14396            4.540936    male  \n",
      "14397            9.138298    male  \n",
      "14398            5.695035    male  \n",
      "14399            6.045597    male  \n",
      "14400            1.839744    male  \n",
      "\n",
      "[14401 rows x 7 columns]\n"
     ]
    }
   ],
   "source": [
    "df_characters=pd.concat([df_f_mc, df_m_mc], ignore_index=True)\n",
    "print(df_characters)"
   ]
  },
  {
   "cell_type": "code",
   "execution_count": 235,
   "id": "253aa275-f6a3-43eb-bb24-7f425e777ad2",
   "metadata": {},
   "outputs": [],
   "source": [
    "df_characters.to_csv(\"C:\\\\Users\\\\prash\\\\docu3c\\\\Bollywood-Data-master\\\\wikipedia-data\\\\characters.csv\", index=False)"
   ]
  },
  {
   "cell_type": "code",
   "execution_count": 237,
   "id": "b53ade52-083e-4063-9df7-05d195f1b099",
   "metadata": {},
   "outputs": [
    {
     "name": "stdout",
     "output_type": "stream",
     "text": [
      "Collecting PyMuPDFNote: you may need to restart the kernel to use updated packages.\n",
      "\n",
      "  Downloading pymupdf-1.26.3-cp39-abi3-win_amd64.whl.metadata (3.4 kB)\n",
      "Downloading pymupdf-1.26.3-cp39-abi3-win_amd64.whl (18.7 MB)\n",
      "   ---------------------------------------- 0.0/18.7 MB ? eta -:--:--\n",
      "   ---------------------------------------- 0.0/18.7 MB ? eta -:--:--\n",
      "   - -------------------------------------- 0.5/18.7 MB 3.4 MB/s eta 0:00:06\n",
      "   -- ------------------------------------- 1.3/18.7 MB 3.7 MB/s eta 0:00:05\n",
      "   ---- ----------------------------------- 2.1/18.7 MB 3.9 MB/s eta 0:00:05\n",
      "   ------- -------------------------------- 3.4/18.7 MB 4.4 MB/s eta 0:00:04\n",
      "   --------- ------------------------------ 4.5/18.7 MB 4.6 MB/s eta 0:00:04\n",
      "   ------------ --------------------------- 5.8/18.7 MB 4.9 MB/s eta 0:00:03\n",
      "   --------------- ------------------------ 7.1/18.7 MB 5.1 MB/s eta 0:00:03\n",
      "   ----------------- ---------------------- 8.4/18.7 MB 5.3 MB/s eta 0:00:02\n",
      "   -------------------- ------------------- 9.7/18.7 MB 5.4 MB/s eta 0:00:02\n",
      "   ----------------------- ---------------- 11.0/18.7 MB 5.5 MB/s eta 0:00:02\n",
      "   -------------------------- ------------- 12.3/18.7 MB 5.6 MB/s eta 0:00:02\n",
      "   ----------------------------- ---------- 13.9/18.7 MB 5.7 MB/s eta 0:00:01\n",
      "   -------------------------------- ------- 15.2/18.7 MB 5.8 MB/s eta 0:00:01\n",
      "   ----------------------------------- ---- 16.5/18.7 MB 5.8 MB/s eta 0:00:01\n",
      "   -------------------------------------- - 17.8/18.7 MB 5.9 MB/s eta 0:00:01\n",
      "   ---------------------------------------- 18.7/18.7 MB 5.8 MB/s eta 0:00:00\n",
      "Installing collected packages: PyMuPDF\n",
      "Successfully installed PyMuPDF-1.26.3\n"
     ]
    },
    {
     "name": "stderr",
     "output_type": "stream",
     "text": [
      "\n",
      "[notice] A new release of pip is available: 25.0.1 -> 25.1.1\n",
      "[notice] To update, run: python.exe -m pip install --upgrade pip\n"
     ]
    }
   ],
   "source": [
    "pip install PyMuPDF"
   ]
  },
  {
   "cell_type": "code",
   "execution_count": 238,
   "id": "9fdff56a-de5d-4d0d-bec7-c20f74cdbe8d",
   "metadata": {},
   "outputs": [],
   "source": [
    "import fitz"
   ]
  },
  {
   "cell_type": "code",
   "execution_count": 240,
   "id": "7e3ec166-7b4f-4483-8947-98d5d5d5743a",
   "metadata": {},
   "outputs": [],
   "source": [
    "wiki_df = pd.read_csv('C:\\\\Users\\\\prash\\\\docu3c\\\\Bollywood-Data-master\\\\wikipedia-data\\\\coref_plot.csv', on_bad_lines='skip')\n",
    "poster_df = pd.read_csv('C:\\\\Users\\\\prash\\\\docu3c\\\\Bollywood-Data-master\\\\wikipedia-data\\\\image_and_plot_mentions_fequency.csv', on_bad_lines='skip')"
   ]
  },
  {
   "cell_type": "code",
   "execution_count": 241,
   "id": "effa809d-b2ef-47a7-9612-528ebea11351",
   "metadata": {},
   "outputs": [],
   "source": [
    "doc = fitz.open(\"C:\\\\Users\\\\prash\\\\docu3c\\\\Bollywood-Data-master\\\\scripts-data\\\\Queen.pdf\")\n",
    "text = \" \".join([page.get_text() for page in doc])"
   ]
  },
  {
   "cell_type": "code",
   "execution_count": 245,
   "id": "3fd5eb50-a9d4-4472-9764-771bcd73fe81",
   "metadata": {},
   "outputs": [
    {
     "name": "stdout",
     "output_type": "stream",
     "text": [
      "Collecting numpy==1.26.4\n",
      "  Downloading numpy-1.26.4-cp311-cp311-win_amd64.whl.metadata (61 kB)\n",
      "Downloading numpy-1.26.4-cp311-cp311-win_amd64.whl (15.8 MB)\n",
      "   ---------------------------------------- 0.0/15.8 MB ? eta -:--:--\n",
      "    --------------------------------------- 0.3/15.8 MB ? eta -:--:--\n",
      "   --- ------------------------------------ 1.3/15.8 MB 3.9 MB/s eta 0:00:04\n",
      "   ------ --------------------------------- 2.6/15.8 MB 5.0 MB/s eta 0:00:03\n",
      "   ---------- ----------------------------- 4.2/15.8 MB 5.5 MB/s eta 0:00:03\n",
      "   ------------- -------------------------- 5.2/15.8 MB 5.5 MB/s eta 0:00:02\n",
      "   ---------------- ----------------------- 6.6/15.8 MB 5.7 MB/s eta 0:00:02\n",
      "   ------------------- -------------------- 7.9/15.8 MB 5.8 MB/s eta 0:00:02\n",
      "   ----------------------- ---------------- 9.2/15.8 MB 5.8 MB/s eta 0:00:02\n",
      "   -------------------------- ------------- 10.5/15.8 MB 5.9 MB/s eta 0:00:01\n",
      "   ----------------------------- ---------- 11.8/15.8 MB 5.9 MB/s eta 0:00:01\n",
      "   --------------------------------- ------ 13.1/15.8 MB 6.0 MB/s eta 0:00:01\n",
      "   ------------------------------------ --- 14.4/15.8 MB 6.0 MB/s eta 0:00:01\n",
      "   ---------------------------------------  15.7/15.8 MB 6.0 MB/s eta 0:00:01\n",
      "   ---------------------------------------- 15.8/15.8 MB 6.0 MB/s eta 0:00:00\n",
      "Installing collected packages: numpy\n",
      "  Attempting uninstall: numpy\n",
      "    Found existing installation: numpy 2.3.1\n",
      "    Uninstalling numpy-2.3.1:\n",
      "      Successfully uninstalled numpy-2.3.1\n",
      "Successfully installed numpy-1.26.4\n",
      "Note: you may need to restart the kernel to use updated packages.\n"
     ]
    },
    {
     "name": "stderr",
     "output_type": "stream",
     "text": [
      "ERROR: pip's dependency resolver does not currently take into account all the packages that are installed. This behaviour is the source of the following dependency conflicts.\n",
      "gensim 4.3.0 requires FuzzyTM>=0.4.0, which is not installed.\n",
      "thinc 8.3.6 requires numpy<3.0.0,>=2.0.0, but you have numpy 1.26.4 which is incompatible.\n",
      "\n",
      "[notice] A new release of pip is available: 25.0.1 -> 25.1.1\n",
      "[notice] To update, run: python.exe -m pip install --upgrade pip\n"
     ]
    }
   ],
   "source": [
    "pip install numpy==1.26.4\n"
   ]
  },
  {
   "cell_type": "code",
   "execution_count": 254,
   "id": "39919c09-57ce-4013-a624-3c8be33edb84",
   "metadata": {},
   "outputs": [
    {
     "name": "stdout",
     "output_type": "stream",
     "text": [
      "Collecting FuzzyTMNote: you may need to restart the kernel to use updated packages.\n",
      "\n",
      "  Using cached FuzzyTM-2.0.9-py3-none-any.whl.metadata (7.9 kB)\n",
      "Requirement already satisfied: numpy in c:\\users\\prash\\anaconda3\\lib\\site-packages (from FuzzyTM) (2.3.1)\n",
      "Requirement already satisfied: pandas in c:\\users\\prash\\anaconda3\\lib\\site-packages (from FuzzyTM) (2.1.4)\n",
      "Requirement already satisfied: scipy in c:\\users\\prash\\anaconda3\\lib\\site-packages (from FuzzyTM) (1.11.4)\n",
      "Collecting pyfume (from FuzzyTM)\n",
      "  Using cached pyFUME-0.3.4-py3-none-any.whl.metadata (9.7 kB)\n",
      "Collecting numpy (from FuzzyTM)\n",
      "  Using cached numpy-1.26.4-cp311-cp311-win_amd64.whl.metadata (61 kB)\n",
      "Requirement already satisfied: python-dateutil>=2.8.2 in c:\\users\\prash\\anaconda3\\lib\\site-packages (from pandas->FuzzyTM) (2.8.2)\n",
      "Requirement already satisfied: pytz>=2020.1 in c:\\users\\prash\\anaconda3\\lib\\site-packages (from pandas->FuzzyTM) (2023.3.post1)\n",
      "Requirement already satisfied: tzdata>=2022.1 in c:\\users\\prash\\anaconda3\\lib\\site-packages (from pandas->FuzzyTM) (2023.3)\n",
      "Requirement already satisfied: six>=1.5 in c:\\users\\prash\\anaconda3\\lib\\site-packages (from python-dateutil>=2.8.2->pandas->FuzzyTM) (1.16.0)\n",
      "Collecting scipy (from FuzzyTM)\n",
      "  Using cached scipy-1.10.1-cp311-cp311-win_amd64.whl.metadata (58 kB)\n",
      "Collecting numpy (from FuzzyTM)\n",
      "  Using cached numpy-1.24.4-cp311-cp311-win_amd64.whl.metadata (5.6 kB)\n",
      "Collecting simpful==2.12.0 (from pyfume->FuzzyTM)\n",
      "  Using cached simpful-2.12.0-py3-none-any.whl.metadata (4.8 kB)\n",
      "Collecting fst-pso==1.8.1 (from pyfume->FuzzyTM)\n",
      "  Using cached fst-pso-1.8.1.tar.gz (18 kB)\n",
      "  Preparing metadata (setup.py): started\n",
      "  Preparing metadata (setup.py): finished with status 'error'\n"
     ]
    },
    {
     "name": "stderr",
     "output_type": "stream",
     "text": [
      "  error: subprocess-exited-with-error\n",
      "  \n",
      "  python setup.py egg_info did not run successfully.\n",
      "  exit code: 1\n",
      "  \n",
      "  [14 lines of output]\n",
      "  ERROR: Can not execute `setup.py` since setuptools failed to import in the build environment with exception:\n",
      "  Traceback (most recent call last):\n",
      "    File \"<pip-setuptools-caller>\", line 14, in <module>\n",
      "    File \"C:\\Users\\prash\\anaconda3\\Lib\\site-packages\\setuptools\\__init__.py\", line 27, in <module>\n",
      "      from .dist import Distribution\n",
      "    File \"C:\\Users\\prash\\anaconda3\\Lib\\site-packages\\setuptools\\dist.py\", line 19, in <module>\n",
      "      from . import (\n",
      "    File \"C:\\Users\\prash\\anaconda3\\Lib\\site-packages\\setuptools\\_entry_points.py\", line 6, in <module>\n",
      "      from jaraco.text import yield_lines\n",
      "    File \"C:\\Users\\prash\\anaconda3\\Lib\\site-packages\\setuptools\\_vendor\\jaraco\\text\\__init__.py\", line 12, in <module>\n",
      "      from jaraco.context import ExceptionTrap\n",
      "    File \"C:\\Users\\prash\\anaconda3\\Lib\\site-packages\\setuptools\\_vendor\\jaraco\\context.py\", line 17, in <module>\n",
      "      from backports import tarfile\n",
      "  ImportError: cannot import name 'tarfile' from 'backports' (C:\\Users\\prash\\anaconda3\\Lib\\site-packages\\backports\\__init__.py)\n",
      "  [end of output]\n",
      "  \n",
      "  note: This error originates from a subprocess, and is likely not a problem with pip.\n",
      "error: metadata-generation-failed\n",
      "\n",
      "Encountered error while generating package metadata.\n",
      "\n",
      "See above for output.\n",
      "\n",
      "note: This is an issue with the package mentioned above, not pip.\n",
      "hint: See above for details.\n"
     ]
    }
   ],
   "source": [
    "pip install FuzzyTM\n"
   ]
  },
  {
   "cell_type": "code",
   "execution_count": 253,
   "id": "77f90863-d128-4def-be91-17b35bd83069",
   "metadata": {},
   "outputs": [
    {
     "name": "stdout",
     "output_type": "stream",
     "text": [
      "Requirement already satisfied: spacy in c:\\users\\prash\\anaconda3\\lib\\site-packages (3.8.7)\n",
      "Requirement already satisfied: spacy-legacy<3.1.0,>=3.0.11 in c:\\users\\prash\\anaconda3\\lib\\site-packages (from spacy) (3.0.12)\n",
      "Requirement already satisfied: spacy-loggers<2.0.0,>=1.0.0 in c:\\users\\prash\\anaconda3\\lib\\site-packages (from spacy) (1.0.5)\n",
      "Requirement already satisfied: murmurhash<1.1.0,>=0.28.0 in c:\\users\\prash\\anaconda3\\lib\\site-packages (from spacy) (1.0.13)\n",
      "Requirement already satisfied: cymem<2.1.0,>=2.0.2 in c:\\users\\prash\\anaconda3\\lib\\site-packages (from spacy) (2.0.11)\n",
      "Requirement already satisfied: preshed<3.1.0,>=3.0.2 in c:\\users\\prash\\anaconda3\\lib\\site-packages (from spacy) (3.0.10)\n",
      "Requirement already satisfied: thinc<8.4.0,>=8.3.4 in c:\\users\\prash\\anaconda3\\lib\\site-packages (from spacy) (8.3.6)\n",
      "Requirement already satisfied: wasabi<1.2.0,>=0.9.1 in c:\\users\\prash\\anaconda3\\lib\\site-packages (from spacy) (1.1.3)\n",
      "Requirement already satisfied: srsly<3.0.0,>=2.4.3 in c:\\users\\prash\\anaconda3\\lib\\site-packages (from spacy) (2.5.1)\n",
      "Requirement already satisfied: catalogue<2.1.0,>=2.0.6 in c:\\users\\prash\\anaconda3\\lib\\site-packages (from spacy) (2.0.10)\n",
      "Requirement already satisfied: weasel<0.5.0,>=0.1.0 in c:\\users\\prash\\anaconda3\\lib\\site-packages (from spacy) (0.4.1)\n",
      "Requirement already satisfied: typer<1.0.0,>=0.3.0 in c:\\users\\prash\\anaconda3\\lib\\site-packages (from spacy) (0.16.0)\n",
      "Requirement already satisfied: tqdm<5.0.0,>=4.38.0 in c:\\users\\prash\\anaconda3\\lib\\site-packages (from spacy) (4.65.0)\n",
      "Requirement already satisfied: numpy>=1.19.0 in c:\\users\\prash\\anaconda3\\lib\\site-packages (from spacy) (1.26.4)\n",
      "Requirement already satisfied: requests<3.0.0,>=2.13.0 in c:\\users\\prash\\anaconda3\\lib\\site-packages (from spacy) (2.31.0)\n",
      "Requirement already satisfied: pydantic!=1.8,!=1.8.1,<3.0.0,>=1.7.4 in c:\\users\\prash\\anaconda3\\lib\\site-packages (from spacy) (1.10.22)\n",
      "Requirement already satisfied: jinja2 in c:\\users\\prash\\anaconda3\\lib\\site-packages (from spacy) (3.1.3)\n",
      "Requirement already satisfied: setuptools in c:\\users\\prash\\anaconda3\\lib\\site-packages (from spacy) (75.8.0)\n",
      "Requirement already satisfied: packaging>=20.0 in c:\\users\\prash\\anaconda3\\lib\\site-packages (from spacy) (23.1)\n",
      "Requirement already satisfied: langcodes<4.0.0,>=3.2.0 in c:\\users\\prash\\anaconda3\\lib\\site-packages (from spacy) (3.5.0)\n",
      "Requirement already satisfied: language-data>=1.2 in c:\\users\\prash\\anaconda3\\lib\\site-packages (from langcodes<4.0.0,>=3.2.0->spacy) (1.3.0)\n",
      "Requirement already satisfied: typing-extensions>=4.2.0 in c:\\users\\prash\\anaconda3\\lib\\site-packages (from pydantic!=1.8,!=1.8.1,<3.0.0,>=1.7.4->spacy) (4.9.0)\n",
      "Requirement already satisfied: charset-normalizer<4,>=2 in c:\\users\\prash\\anaconda3\\lib\\site-packages (from requests<3.0.0,>=2.13.0->spacy) (2.0.4)\n",
      "Requirement already satisfied: idna<4,>=2.5 in c:\\users\\prash\\anaconda3\\lib\\site-packages (from requests<3.0.0,>=2.13.0->spacy) (3.7)\n",
      "Requirement already satisfied: urllib3<3,>=1.21.1 in c:\\users\\prash\\anaconda3\\lib\\site-packages (from requests<3.0.0,>=2.13.0->spacy) (2.0.7)\n",
      "Requirement already satisfied: certifi>=2017.4.17 in c:\\users\\prash\\anaconda3\\lib\\site-packages (from requests<3.0.0,>=2.13.0->spacy) (2025.1.31)\n",
      "Requirement already satisfied: blis<1.4.0,>=1.3.0 in c:\\users\\prash\\anaconda3\\lib\\site-packages (from thinc<8.4.0,>=8.3.4->spacy) (1.3.0)\n",
      "Requirement already satisfied: confection<1.0.0,>=0.0.1 in c:\\users\\prash\\anaconda3\\lib\\site-packages (from thinc<8.4.0,>=8.3.4->spacy) (0.1.5)\n",
      "Collecting numpy>=1.19.0 (from spacy)\n",
      "  Using cached numpy-2.3.1-cp311-cp311-win_amd64.whl.metadata (60 kB)\n",
      "Collecting pydantic!=1.8,!=1.8.1,<3.0.0,>=1.7.4 (from spacy)\n",
      "  Using cached pydantic-2.11.7-py3-none-any.whl.metadata (67 kB)\n",
      "Requirement already satisfied: annotated-types>=0.6.0 in c:\\users\\prash\\anaconda3\\lib\\site-packages (from pydantic!=1.8,!=1.8.1,<3.0.0,>=1.7.4->spacy) (0.7.0)\n",
      "Requirement already satisfied: pydantic-core==2.33.2 in c:\\users\\prash\\anaconda3\\lib\\site-packages (from pydantic!=1.8,!=1.8.1,<3.0.0,>=1.7.4->spacy) (2.33.2)\n",
      "Collecting typing-extensions>=4.12.2 (from pydantic!=1.8,!=1.8.1,<3.0.0,>=1.7.4->spacy)\n",
      "  Using cached typing_extensions-4.14.1-py3-none-any.whl.metadata (3.0 kB)\n",
      "Requirement already satisfied: typing-inspection>=0.4.0 in c:\\users\\prash\\anaconda3\\lib\\site-packages (from pydantic!=1.8,!=1.8.1,<3.0.0,>=1.7.4->spacy) (0.4.1)\n",
      "Requirement already satisfied: colorama in c:\\users\\prash\\anaconda3\\lib\\site-packages (from tqdm<5.0.0,>=4.38.0->spacy) (0.4.6)\n",
      "Requirement already satisfied: click>=8.0.0 in c:\\users\\prash\\anaconda3\\lib\\site-packages (from typer<1.0.0,>=0.3.0->spacy) (8.1.7)\n",
      "Requirement already satisfied: shellingham>=1.3.0 in c:\\users\\prash\\anaconda3\\lib\\site-packages (from typer<1.0.0,>=0.3.0->spacy) (1.5.4)\n",
      "Requirement already satisfied: rich>=10.11.0 in c:\\users\\prash\\anaconda3\\lib\\site-packages (from typer<1.0.0,>=0.3.0->spacy) (13.3.5)\n",
      "Requirement already satisfied: cloudpathlib<1.0.0,>=0.7.0 in c:\\users\\prash\\anaconda3\\lib\\site-packages (from weasel<0.5.0,>=0.1.0->spacy) (0.21.1)\n",
      "Requirement already satisfied: smart-open<8.0.0,>=5.2.1 in c:\\users\\prash\\anaconda3\\lib\\site-packages (from weasel<0.5.0,>=0.1.0->spacy) (5.2.1)\n",
      "Requirement already satisfied: marisa-trie>=1.1.0 in c:\\users\\prash\\anaconda3\\lib\\site-packages (from language-data>=1.2->langcodes<4.0.0,>=3.2.0->spacy) (1.2.1)\n",
      "Requirement already satisfied: markdown-it-py<3.0.0,>=2.2.0 in c:\\users\\prash\\anaconda3\\lib\\site-packages (from rich>=10.11.0->typer<1.0.0,>=0.3.0->spacy) (2.2.0)\n",
      "Requirement already satisfied: pygments<3.0.0,>=2.13.0 in c:\\users\\prash\\anaconda3\\lib\\site-packages (from rich>=10.11.0->typer<1.0.0,>=0.3.0->spacy) (2.15.1)\n",
      "Requirement already satisfied: mdurl~=0.1 in c:\\users\\prash\\anaconda3\\lib\\site-packages (from markdown-it-py<3.0.0,>=2.2.0->rich>=10.11.0->typer<1.0.0,>=0.3.0->spacy) (0.1.0)\n",
      "Requirement already satisfied: MarkupSafe>=2.0 in c:\\users\\prash\\anaconda3\\lib\\site-packages (from jinja2->spacy) (2.1.3)\n",
      "Using cached numpy-2.3.1-cp311-cp311-win_amd64.whl (13.0 MB)\n",
      "Using cached pydantic-2.11.7-py3-none-any.whl (444 kB)\n",
      "Using cached typing_extensions-4.14.1-py3-none-any.whl (43 kB)\n",
      "Installing collected packages: typing-extensions, numpy, pydantic\n",
      "\n",
      "  Attempting uninstall: typing-extensions\n",
      "\n",
      "    Found existing installation: typing_extensions 4.9.0\n",
      "\n",
      "    Uninstalling typing_extensions-4.9.0:\n",
      "\n",
      "   ---------------------------------------- 0/3 [typing-extensions]\n",
      "   ---------------------------------------- 0/3 [typing-extensions]\n",
      "   ---------------------------------------- 0/3 [typing-extensions]\n",
      "   ---------------------------------------- 0/3 [typing-extensions]\n",
      "   ---------------------------------------- 0/3 [typing-extensions]\n",
      "   ---------------------------------------- 0/3 [typing-extensions]\n",
      "   ---------------------------------------- 0/3 [typing-extensions]\n",
      "   ---------------------------------------- 0/3 [typing-extensions]\n",
      "   ---------------------------------------- 0/3 [typing-extensions]\n",
      "   ---------------------------------------- 0/3 [typing-extensions]\n",
      "   ---------------------------------------- 0/3 [typing-extensions]\n",
      "   ---------------------------------------- 0/3 [typing-extensions]\n",
      "   ---------------------------------------- 0/3 [typing-extensions]\n",
      "   ---------------------------------------- 0/3 [typing-extensions]\n",
      "   ---------------------------------------- 0/3 [typing-extensions]\n",
      "   ---------------------------------------- 0/3 [typing-extensions]\n",
      "   ---------------------------------------- 0/3 [typing-extensions]\n",
      "   ---------------------------------------- 0/3 [typing-extensions]\n",
      "   ---------------------------------------- 0/3 [typing-extensions]\n",
      "   ---------------------------------------- 0/3 [typing-extensions]\n",
      "   ---------------------------------------- 0/3 [typing-extensions]\n",
      "   ---------------------------------------- 0/3 [typing-extensions]\n",
      "   ---------------------------------------- 0/3 [typing-extensions]\n",
      "   ---------------------------------------- 0/3 [typing-extensions]\n",
      "   ---------------------------------------- 0/3 [typing-extensions]\n",
      "   ---------------------------------------- 0/3 [typing-extensions]\n",
      "   ---------------------------------------- 0/3 [typing-extensions]\n",
      "   ---------------------------------------- 0/3 [typing-extensions]\n",
      "   ---------------------------------------- 0/3 [typing-extensions]\n",
      "   ---------------------------------------- 0/3 [typing-extensions]\n",
      "   ---------------------------------------- 0/3 [typing-extensions]\n",
      "   ---------------------------------------- 0/3 [typing-extensions]\n",
      "   ---------------------------------------- 0/3 [typing-extensions]\n",
      "   ---------------------------------------- 0/3 [typing-extensions]\n",
      "   ---------------------------------------- 0/3 [typing-extensions]\n",
      "   ---------------------------------------- 0/3 [typing-extensions]\n",
      "   ---------------------------------------- 0/3 [typing-extensions]\n",
      "   ---------------------------------------- 0/3 [typing-extensions]\n",
      "   ---------------------------------------- 0/3 [typing-extensions]\n",
      "   ---------------------------------------- 0/3 [typing-extensions]\n",
      "   ---------------------------------------- 0/3 [typing-extensions]\n",
      "   ---------------------------------------- 0/3 [typing-extensions]\n",
      "      Successfully uninstalled typing_extensions-4.9.0\n",
      "   ---------------------------------------- 0/3 [typing-extensions]\n",
      "  Attempting uninstall: numpy\n",
      "   ---------------------------------------- 0/3 [typing-extensions]\n",
      "    Found existing installation: numpy 1.26.4\n",
      "   ---------------------------------------- 0/3 [typing-extensions]\n",
      "   ------------- -------------------------- 1/3 [numpy]\n",
      "   ------------- -------------------------- 1/3 [numpy]\n",
      "   ------------- -------------------------- 1/3 [numpy]\n",
      "   ------------- -------------------------- 1/3 [numpy]\n",
      "    Uninstalling numpy-1.26.4:\n",
      "   ------------- -------------------------- 1/3 [numpy]\n",
      "   ------------- -------------------------- 1/3 [numpy]\n",
      "   ------------- -------------------------- 1/3 [numpy]\n",
      "   ------------- -------------------------- 1/3 [numpy]\n",
      "   ------------- -------------------------- 1/3 [numpy]\n",
      "   ------------- -------------------------- 1/3 [numpy]\n",
      "   ------------- -------------------------- 1/3 [numpy]\n",
      "   ------------- -------------------------- 1/3 [numpy]\n",
      "   ------------- -------------------------- 1/3 [numpy]\n",
      "   ------------- -------------------------- 1/3 [numpy]\n",
      "   ------------- -------------------------- 1/3 [numpy]\n",
      "   ------------- -------------------------- 1/3 [numpy]\n",
      "   ------------- -------------------------- 1/3 [numpy]\n",
      "   ------------- -------------------------- 1/3 [numpy]\n",
      "   ------------- -------------------------- 1/3 [numpy]\n",
      "   ------------- -------------------------- 1/3 [numpy]\n",
      "   ------------- -------------------------- 1/3 [numpy]\n",
      "   ------------- -------------------------- 1/3 [numpy]\n",
      "   ------------- -------------------------- 1/3 [numpy]\n",
      "   ------------- -------------------------- 1/3 [numpy]\n",
      "   ------------- -------------------------- 1/3 [numpy]\n",
      "   ------------- -------------------------- 1/3 [numpy]\n",
      "   ------------- -------------------------- 1/3 [numpy]\n",
      "   ------------- -------------------------- 1/3 [numpy]\n",
      "   ------------- -------------------------- 1/3 [numpy]\n",
      "   ------------- -------------------------- 1/3 [numpy]\n",
      "   ------------- -------------------------- 1/3 [numpy]\n",
      "   ------------- -------------------------- 1/3 [numpy]\n",
      "   ------------- -------------------------- 1/3 [numpy]\n",
      "   ------------- -------------------------- 1/3 [numpy]\n",
      "   ------------- -------------------------- 1/3 [numpy]\n",
      "   ------------- -------------------------- 1/3 [numpy]\n",
      "   ------------- -------------------------- 1/3 [numpy]\n",
      "   ------------- -------------------------- 1/3 [numpy]\n",
      "   ------------- -------------------------- 1/3 [numpy]\n",
      "   ------------- -------------------------- 1/3 [numpy]\n",
      "   ------------- -------------------------- 1/3 [numpy]\n",
      "   ------------- -------------------------- 1/3 [numpy]\n",
      "   ------------- -------------------------- 1/3 [numpy]\n",
      "   ------------- -------------------------- 1/3 [numpy]\n",
      "   ------------- -------------------------- 1/3 [numpy]\n",
      "   ------------- -------------------------- 1/3 [numpy]\n",
      "   ------------- -------------------------- 1/3 [numpy]\n",
      "   ------------- -------------------------- 1/3 [numpy]\n",
      "      Successfully uninstalled numpy-1.26.4\n",
      "   ------------- -------------------------- 1/3 [numpy]\n",
      "   ------------- -------------------------- 1/3 [numpy]\n",
      "   ------------- -------------------------- 1/3 [numpy]\n",
      "   ------------- -------------------------- 1/3 [numpy]\n",
      "   ------------- -------------------------- 1/3 [numpy]\n",
      "   ------------- -------------------------- 1/3 [numpy]\n",
      "   ------------- -------------------------- 1/3 [numpy]\n",
      "   ------------- -------------------------- 1/3 [numpy]\n",
      "   ------------- -------------------------- 1/3 [numpy]\n",
      "   ------------- -------------------------- 1/3 [numpy]\n",
      "   ------------- -------------------------- 1/3 [numpy]\n",
      "   ------------- -------------------------- 1/3 [numpy]\n",
      "   ------------- -------------------------- 1/3 [numpy]\n",
      "   ------------- -------------------------- 1/3 [numpy]\n",
      "   ------------- -------------------------- 1/3 [numpy]\n",
      "   ------------- -------------------------- 1/3 [numpy]\n",
      "   ------------- -------------------------- 1/3 [numpy]\n",
      "   ------------- -------------------------- 1/3 [numpy]\n",
      "   ------------- -------------------------- 1/3 [numpy]\n",
      "   ------------- -------------------------- 1/3 [numpy]\n",
      "   ------------- -------------------------- 1/3 [numpy]\n",
      "   ------------- -------------------------- 1/3 [numpy]\n",
      "   ------------- -------------------------- 1/3 [numpy]\n",
      "   ------------- -------------------------- 1/3 [numpy]\n",
      "   ------------- -------------------------- 1/3 [numpy]\n",
      "   ------------- -------------------------- 1/3 [numpy]\n",
      "   ------------- -------------------------- 1/3 [numpy]\n",
      "   ------------- -------------------------- 1/3 [numpy]\n",
      "   ------------- -------------------------- 1/3 [numpy]\n",
      "   ------------- -------------------------- 1/3 [numpy]\n",
      "   ------------- -------------------------- 1/3 [numpy]\n",
      "   ------------- -------------------------- 1/3 [numpy]\n",
      "   ------------- -------------------------- 1/3 [numpy]\n",
      "   ------------- -------------------------- 1/3 [numpy]\n",
      "  Attempting uninstall: pydantic\n",
      "   ------------- -------------------------- 1/3 [numpy]\n",
      "    Found existing installation: pydantic 1.10.22\n",
      "   ------------- -------------------------- 1/3 [numpy]\n",
      "   -------------------------- ------------- 2/3 [pydantic]\n",
      "    Uninstalling pydantic-1.10.22:\n",
      "   -------------------------- ------------- 2/3 [pydantic]\n",
      "      Successfully uninstalled pydantic-1.10.22\n",
      "   -------------------------- ------------- 2/3 [pydantic]\n",
      "   -------------------------- ------------- 2/3 [pydantic]\n",
      "   -------------------------- ------------- 2/3 [pydantic]\n",
      "   -------------------------- ------------- 2/3 [pydantic]\n",
      "   -------------------------- ------------- 2/3 [pydantic]\n",
      "   ---------------------------------------- 3/3 [pydantic]\n",
      "\n",
      "Successfully installed numpy-2.3.1 pydantic-2.11.7 typing-extensions-4.14.1\n",
      "Note: you may need to restart the kernel to use updated packages.\n"
     ]
    },
    {
     "name": "stderr",
     "output_type": "stream",
     "text": [
      "ERROR: pip's dependency resolver does not currently take into account all the packages that are installed. This behaviour is the source of the following dependency conflicts.\n",
      "gensim 4.3.0 requires FuzzyTM>=0.4.0, which is not installed.\n",
      "anaconda-cloud-auth 0.1.4 requires pydantic<2.0, but you have pydantic 2.11.7 which is incompatible.\n",
      "astropy 5.3.4 requires numpy<2,>=1.21, but you have numpy 2.3.1 which is incompatible.\n",
      "contourpy 1.2.0 requires numpy<2.0,>=1.20, but you have numpy 2.3.1 which is incompatible.\n",
      "matplotlib 3.8.0 requires numpy<2,>=1.21, but you have numpy 2.3.1 which is incompatible.\n",
      "numba 0.59.0 requires numpy<1.27,>=1.22, but you have numpy 2.3.1 which is incompatible.\n",
      "pandas 2.1.4 requires numpy<2,>=1.23.2; python_version == \"3.11\", but you have numpy 2.3.1 which is incompatible.\n",
      "pywavelets 1.5.0 requires numpy<2.0,>=1.22.4, but you have numpy 2.3.1 which is incompatible.\n",
      "scipy 1.11.4 requires numpy<1.28.0,>=1.21.6, but you have numpy 2.3.1 which is incompatible.\n",
      "streamlit 1.30.0 requires numpy<2,>=1.19.3, but you have numpy 2.3.1 which is incompatible.\n",
      "tensorflow-intel 2.16.1 requires numpy<2.0.0,>=1.23.5; python_version <= \"3.11\", but you have numpy 2.3.1 which is incompatible.\n",
      "ultralytics 8.3.80 requires numpy<=2.1.1,>=1.23.0, but you have numpy 2.3.1 which is incompatible.\n"
     ]
    }
   ],
   "source": [
    "\n",
    "pip install spacy\n"
   ]
  },
  {
   "cell_type": "code",
   "execution_count": 252,
   "id": "838e056c-3df8-45ae-8ecd-3e87fa383a3c",
   "metadata": {},
   "outputs": [
    {
     "name": "stdout",
     "output_type": "stream",
     "text": [
      "Requirement already satisfied: typing_extensions==4.9.0 in c:\\users\\prash\\anaconda3\\lib\\site-packages (4.9.0)\n",
      "Note: you may need to restart the kernel to use updated packages.\n"
     ]
    }
   ],
   "source": [
    "pip install typing_extensions==4.9.0\n"
   ]
  },
  {
   "cell_type": "code",
   "execution_count": null,
   "id": "e085ab77-052a-47d9-af0e-129ab41471a3",
   "metadata": {},
   "outputs": [],
   "source": []
  },
  {
   "cell_type": "code",
   "execution_count": 251,
   "id": "b2aedb21-2db9-4600-b947-daaef0d5cf2b",
   "metadata": {},
   "outputs": [
    {
     "name": "stdout",
     "output_type": "stream",
     "text": [
      "Requirement already satisfied: pip in c:\\users\\prash\\anaconda3\\lib\\site-packages (25.0.1)\n",
      "Collecting pip\n",
      "  Downloading pip-25.1.1-py3-none-any.whl.metadata (3.6 kB)\n",
      "Downloading pip-25.1.1-py3-none-any.whl (1.8 MB)\n",
      "   ---------------------------------------- 0.0/1.8 MB ? eta -:--:--\n",
      "   ---------------------------------------- 0.0/1.8 MB ? eta -:--:--\n",
      "   ----------- ---------------------------- 0.5/1.8 MB 2.8 MB/s eta 0:00:01\n",
      "   ---------------------------- ----------- 1.3/1.8 MB 3.5 MB/s eta 0:00:01\n",
      "   ---------------------------------------- 1.8/1.8 MB 3.6 MB/s eta 0:00:00\n",
      "Installing collected packages: pip\n",
      "  Attempting uninstall: pip\n",
      "    Found existing installation: pip 25.0.1\n",
      "    Uninstalling pip-25.0.1:\n",
      "      Successfully uninstalled pip-25.0.1\n",
      "Successfully installed pip-25.1.1\n",
      "Note: you may need to restart the kernel to use updated packages.\n"
     ]
    }
   ],
   "source": [
    "pip install --upgrade pip"
   ]
  },
  {
   "cell_type": "code",
   "execution_count": 247,
   "id": "893bce63-0c05-4657-b5f7-32601d33e51a",
   "metadata": {},
   "outputs": [
    {
     "ename": "ImportError",
     "evalue": "cannot import name 'TypeIs' from 'typing_extensions' (C:\\Users\\prash\\anaconda3\\Lib\\site-packages\\typing_extensions.py)",
     "output_type": "error",
     "traceback": [
      "\u001b[1;31m---------------------------------------------------------------------------\u001b[0m",
      "\u001b[1;31mImportError\u001b[0m                               Traceback (most recent call last)",
      "File \u001b[1;32m~\\anaconda3\\Lib\\site-packages\\confection\\__init__.py:38\u001b[0m\n\u001b[0;32m     37\u001b[0m \u001b[38;5;28;01mtry\u001b[39;00m:\n\u001b[1;32m---> 38\u001b[0m     \u001b[38;5;28;01mfrom\u001b[39;00m \u001b[38;5;21;01mpydantic\u001b[39;00m\u001b[38;5;21;01m.\u001b[39;00m\u001b[38;5;21;01mv1\u001b[39;00m \u001b[38;5;28;01mimport\u001b[39;00m BaseModel, Extra, ValidationError, create_model\n\u001b[0;32m     39\u001b[0m     \u001b[38;5;28;01mfrom\u001b[39;00m \u001b[38;5;21;01mpydantic\u001b[39;00m\u001b[38;5;21;01m.\u001b[39;00m\u001b[38;5;21;01mv1\u001b[39;00m\u001b[38;5;21;01m.\u001b[39;00m\u001b[38;5;21;01mfields\u001b[39;00m \u001b[38;5;28;01mimport\u001b[39;00m ModelField\n",
      "File \u001b[1;32m~\\anaconda3\\Lib\\site-packages\\pydantic\\__init__.py:413\u001b[0m\n\u001b[0;32m    411\u001b[0m _deprecated_dynamic_imports \u001b[38;5;241m=\u001b[39m {\u001b[38;5;124m'\u001b[39m\u001b[38;5;124mFieldValidationInfo\u001b[39m\u001b[38;5;124m'\u001b[39m, \u001b[38;5;124m'\u001b[39m\u001b[38;5;124mGenerateSchema\u001b[39m\u001b[38;5;124m'\u001b[39m}\n\u001b[1;32m--> 413\u001b[0m _getattr_migration \u001b[38;5;241m=\u001b[39m getattr_migration(\u001b[38;5;18m__name__\u001b[39m)\n\u001b[0;32m    416\u001b[0m \u001b[38;5;28;01mdef\u001b[39;00m \u001b[38;5;21m__getattr__\u001b[39m(attr_name: \u001b[38;5;28mstr\u001b[39m) \u001b[38;5;241m-\u001b[39m\u001b[38;5;241m>\u001b[39m \u001b[38;5;28mobject\u001b[39m:\n",
      "File \u001b[1;32m~\\anaconda3\\Lib\\site-packages\\pydantic\\_migration.py:260\u001b[0m, in \u001b[0;36mgetattr_migration\u001b[1;34m(module)\u001b[0m\n\u001b[0;32m    259\u001b[0m \u001b[38;5;66;03m# This avoids circular import with errors.py.\u001b[39;00m\n\u001b[1;32m--> 260\u001b[0m \u001b[38;5;28;01mfrom\u001b[39;00m \u001b[38;5;21;01m.\u001b[39;00m\u001b[38;5;21;01merrors\u001b[39;00m \u001b[38;5;28;01mimport\u001b[39;00m PydanticImportError\n\u001b[0;32m    262\u001b[0m \u001b[38;5;28;01mdef\u001b[39;00m \u001b[38;5;21mwrapper\u001b[39m(name: \u001b[38;5;28mstr\u001b[39m) \u001b[38;5;241m-\u001b[39m\u001b[38;5;241m>\u001b[39m \u001b[38;5;28mobject\u001b[39m:\n",
      "File \u001b[1;32m~\\anaconda3\\Lib\\site-packages\\pydantic\\errors.py:9\u001b[0m\n\u001b[0;32m      8\u001b[0m \u001b[38;5;28;01mfrom\u001b[39;00m \u001b[38;5;21;01mtyping_extensions\u001b[39;00m \u001b[38;5;28;01mimport\u001b[39;00m Self\n\u001b[1;32m----> 9\u001b[0m \u001b[38;5;28;01mfrom\u001b[39;00m \u001b[38;5;21;01mtyping_inspection\u001b[39;00m\u001b[38;5;21;01m.\u001b[39;00m\u001b[38;5;21;01mintrospection\u001b[39;00m \u001b[38;5;28;01mimport\u001b[39;00m Qualifier\n\u001b[0;32m     11\u001b[0m \u001b[38;5;28;01mfrom\u001b[39;00m \u001b[38;5;21;01mpydantic\u001b[39;00m\u001b[38;5;21;01m.\u001b[39;00m\u001b[38;5;21;01m_internal\u001b[39;00m \u001b[38;5;28;01mimport\u001b[39;00m _repr\n",
      "File \u001b[1;32m~\\anaconda3\\Lib\\site-packages\\typing_inspection\\introspection.py:14\u001b[0m\n\u001b[0;32m     12\u001b[0m \u001b[38;5;28;01mfrom\u001b[39;00m \u001b[38;5;21;01mtyping_extensions\u001b[39;00m \u001b[38;5;28;01mimport\u001b[39;00m TypeAlias, assert_never, get_args, get_origin\n\u001b[1;32m---> 14\u001b[0m \u001b[38;5;28;01mfrom\u001b[39;00m \u001b[38;5;21;01m.\u001b[39;00m \u001b[38;5;28;01mimport\u001b[39;00m typing_objects\n\u001b[0;32m     16\u001b[0m __all__ \u001b[38;5;241m=\u001b[39m (\n\u001b[0;32m     17\u001b[0m     \u001b[38;5;124m'\u001b[39m\u001b[38;5;124mAnnotationSource\u001b[39m\u001b[38;5;124m'\u001b[39m,\n\u001b[0;32m     18\u001b[0m     \u001b[38;5;124m'\u001b[39m\u001b[38;5;124mForbiddenQualifier\u001b[39m\u001b[38;5;124m'\u001b[39m,\n\u001b[1;32m   (...)\u001b[0m\n\u001b[0;32m     23\u001b[0m     \u001b[38;5;124m'\u001b[39m\u001b[38;5;124mis_union_origin\u001b[39m\u001b[38;5;124m'\u001b[39m,\n\u001b[0;32m     24\u001b[0m )\n",
      "File \u001b[1;32m~\\anaconda3\\Lib\\site-packages\\typing_inspection\\typing_objects.py:19\u001b[0m\n\u001b[0;32m     18\u001b[0m \u001b[38;5;28;01mimport\u001b[39;00m \u001b[38;5;21;01mtyping_extensions\u001b[39;00m\n\u001b[1;32m---> 19\u001b[0m \u001b[38;5;28;01mfrom\u001b[39;00m \u001b[38;5;21;01mtyping_extensions\u001b[39;00m \u001b[38;5;28;01mimport\u001b[39;00m LiteralString, TypeAliasType, TypeIs, deprecated\n\u001b[0;32m     21\u001b[0m __all__ \u001b[38;5;241m=\u001b[39m (\n\u001b[0;32m     22\u001b[0m     \u001b[38;5;124m'\u001b[39m\u001b[38;5;124mDEPRECATED_ALIASES\u001b[39m\u001b[38;5;124m'\u001b[39m,\n\u001b[0;32m     23\u001b[0m     \u001b[38;5;124m'\u001b[39m\u001b[38;5;124mNoneType\u001b[39m\u001b[38;5;124m'\u001b[39m,\n\u001b[1;32m   (...)\u001b[0m\n\u001b[0;32m     53\u001b[0m     \u001b[38;5;124m'\u001b[39m\u001b[38;5;124mis_unpack\u001b[39m\u001b[38;5;124m'\u001b[39m,\n\u001b[0;32m     54\u001b[0m )\n",
      "\u001b[1;31mImportError\u001b[0m: cannot import name 'TypeIs' from 'typing_extensions' (C:\\Users\\prash\\anaconda3\\Lib\\site-packages\\typing_extensions.py)",
      "\nDuring handling of the above exception, another exception occurred:\n",
      "\u001b[1;31mImportError\u001b[0m                               Traceback (most recent call last)",
      "Cell \u001b[1;32mIn[247], line 1\u001b[0m\n\u001b[1;32m----> 1\u001b[0m \u001b[38;5;28;01mimport\u001b[39;00m \u001b[38;5;21;01mspacy\u001b[39;00m\n\u001b[0;32m      2\u001b[0m nlp \u001b[38;5;241m=\u001b[39m spacy\u001b[38;5;241m.\u001b[39mload(\u001b[38;5;124m\"\u001b[39m\u001b[38;5;124men_core_web_sm\u001b[39m\u001b[38;5;124m\"\u001b[39m)\n\u001b[0;32m      3\u001b[0m doc \u001b[38;5;241m=\u001b[39m nlp(text)\n",
      "File \u001b[1;32m~\\anaconda3\\Lib\\site-packages\\spacy\\__init__.py:6\u001b[0m\n\u001b[0;32m      3\u001b[0m \u001b[38;5;28;01mfrom\u001b[39;00m \u001b[38;5;21;01mtyping\u001b[39;00m \u001b[38;5;28;01mimport\u001b[39;00m Any, Dict, Iterable, Union\n\u001b[0;32m      5\u001b[0m \u001b[38;5;66;03m# set library-specific custom warning handling before doing anything else\u001b[39;00m\n\u001b[1;32m----> 6\u001b[0m \u001b[38;5;28;01mfrom\u001b[39;00m \u001b[38;5;21;01m.\u001b[39;00m\u001b[38;5;21;01merrors\u001b[39;00m \u001b[38;5;28;01mimport\u001b[39;00m setup_default_warnings\n\u001b[0;32m      8\u001b[0m setup_default_warnings()  \u001b[38;5;66;03m# noqa: E402\u001b[39;00m\n\u001b[0;32m     10\u001b[0m \u001b[38;5;66;03m# These are imported as part of the API\u001b[39;00m\n",
      "File \u001b[1;32m~\\anaconda3\\Lib\\site-packages\\spacy\\errors.py:3\u001b[0m\n\u001b[0;32m      1\u001b[0m \u001b[38;5;28;01mimport\u001b[39;00m \u001b[38;5;21;01mwarnings\u001b[39;00m\n\u001b[1;32m----> 3\u001b[0m \u001b[38;5;28;01mfrom\u001b[39;00m \u001b[38;5;21;01m.\u001b[39;00m\u001b[38;5;21;01mcompat\u001b[39;00m \u001b[38;5;28;01mimport\u001b[39;00m Literal\n\u001b[0;32m      6\u001b[0m \u001b[38;5;28;01mclass\u001b[39;00m \u001b[38;5;21;01mErrorsWithCodes\u001b[39;00m(\u001b[38;5;28mtype\u001b[39m):\n\u001b[0;32m      7\u001b[0m     \u001b[38;5;28;01mdef\u001b[39;00m \u001b[38;5;21m__getattribute__\u001b[39m(\u001b[38;5;28mself\u001b[39m, code):\n",
      "File \u001b[1;32m~\\anaconda3\\Lib\\site-packages\\spacy\\compat.py:4\u001b[0m\n\u001b[0;32m      1\u001b[0m \u001b[38;5;124;03m\"\"\"Helpers for Python and platform compatibility.\"\"\"\u001b[39;00m\n\u001b[0;32m      2\u001b[0m \u001b[38;5;28;01mimport\u001b[39;00m \u001b[38;5;21;01msys\u001b[39;00m\n\u001b[1;32m----> 4\u001b[0m \u001b[38;5;28;01mfrom\u001b[39;00m \u001b[38;5;21;01mthinc\u001b[39;00m\u001b[38;5;21;01m.\u001b[39;00m\u001b[38;5;21;01mutil\u001b[39;00m \u001b[38;5;28;01mimport\u001b[39;00m copy_array\n\u001b[0;32m      6\u001b[0m \u001b[38;5;28;01mtry\u001b[39;00m:\n\u001b[0;32m      7\u001b[0m     \u001b[38;5;28;01mimport\u001b[39;00m \u001b[38;5;21;01mcPickle\u001b[39;00m \u001b[38;5;28;01mas\u001b[39;00m \u001b[38;5;21;01mpickle\u001b[39;00m\n",
      "File \u001b[1;32m~\\anaconda3\\Lib\\site-packages\\thinc\\__init__.py:5\u001b[0m\n\u001b[0;32m      2\u001b[0m \u001b[38;5;28;01mimport\u001b[39;00m \u001b[38;5;21;01mnumpy\u001b[39;00m\n\u001b[0;32m      4\u001b[0m \u001b[38;5;28;01mfrom\u001b[39;00m \u001b[38;5;21;01m.\u001b[39;00m\u001b[38;5;21;01mabout\u001b[39;00m \u001b[38;5;28;01mimport\u001b[39;00m __version__\n\u001b[1;32m----> 5\u001b[0m \u001b[38;5;28;01mfrom\u001b[39;00m \u001b[38;5;21;01m.\u001b[39;00m\u001b[38;5;21;01mconfig\u001b[39;00m \u001b[38;5;28;01mimport\u001b[39;00m registry\n\u001b[0;32m      7\u001b[0m \u001b[38;5;66;03m# fmt: off\u001b[39;00m\n\u001b[0;32m      8\u001b[0m __all__ \u001b[38;5;241m=\u001b[39m [\n\u001b[0;32m      9\u001b[0m     \u001b[38;5;124m\"\u001b[39m\u001b[38;5;124mregistry\u001b[39m\u001b[38;5;124m\"\u001b[39m,\n\u001b[0;32m     10\u001b[0m     \u001b[38;5;124m\"\u001b[39m\u001b[38;5;124m__version__\u001b[39m\u001b[38;5;124m\"\u001b[39m,\n\u001b[0;32m     11\u001b[0m ]\n",
      "File \u001b[1;32m~\\anaconda3\\Lib\\site-packages\\thinc\\config.py:2\u001b[0m\n\u001b[0;32m      1\u001b[0m \u001b[38;5;28;01mimport\u001b[39;00m \u001b[38;5;21;01mcatalogue\u001b[39;00m\n\u001b[1;32m----> 2\u001b[0m \u001b[38;5;28;01mimport\u001b[39;00m \u001b[38;5;21;01mconfection\u001b[39;00m\n\u001b[0;32m      3\u001b[0m \u001b[38;5;28;01mfrom\u001b[39;00m \u001b[38;5;21;01mconfection\u001b[39;00m \u001b[38;5;28;01mimport\u001b[39;00m VARIABLE_RE, Config, ConfigValidationError, Promise\n\u001b[0;32m      5\u001b[0m \u001b[38;5;28;01mfrom\u001b[39;00m \u001b[38;5;21;01m.\u001b[39;00m\u001b[38;5;21;01mtypes\u001b[39;00m \u001b[38;5;28;01mimport\u001b[39;00m Decorator\n",
      "File \u001b[1;32m~\\anaconda3\\Lib\\site-packages\\confection\\__init__.py:42\u001b[0m\n\u001b[0;32m     40\u001b[0m     \u001b[38;5;28;01mfrom\u001b[39;00m \u001b[38;5;21;01mpydantic\u001b[39;00m\u001b[38;5;21;01m.\u001b[39;00m\u001b[38;5;21;01mv1\u001b[39;00m\u001b[38;5;21;01m.\u001b[39;00m\u001b[38;5;21;01mmain\u001b[39;00m \u001b[38;5;28;01mimport\u001b[39;00m ModelMetaclass\n\u001b[0;32m     41\u001b[0m \u001b[38;5;28;01mexcept\u001b[39;00m \u001b[38;5;167;01mImportError\u001b[39;00m:\n\u001b[1;32m---> 42\u001b[0m     \u001b[38;5;28;01mfrom\u001b[39;00m \u001b[38;5;21;01mpydantic\u001b[39;00m \u001b[38;5;28;01mimport\u001b[39;00m BaseModel, create_model, ValidationError, Extra  \u001b[38;5;66;03m# type: ignore\u001b[39;00m\n\u001b[0;32m     43\u001b[0m     \u001b[38;5;28;01mfrom\u001b[39;00m \u001b[38;5;21;01mpydantic\u001b[39;00m\u001b[38;5;21;01m.\u001b[39;00m\u001b[38;5;21;01mmain\u001b[39;00m \u001b[38;5;28;01mimport\u001b[39;00m ModelMetaclass  \u001b[38;5;66;03m# type: ignore\u001b[39;00m\n\u001b[0;32m     44\u001b[0m     \u001b[38;5;28;01mfrom\u001b[39;00m \u001b[38;5;21;01mpydantic\u001b[39;00m\u001b[38;5;21;01m.\u001b[39;00m\u001b[38;5;21;01mfields\u001b[39;00m \u001b[38;5;28;01mimport\u001b[39;00m ModelField  \u001b[38;5;66;03m# type: ignore\u001b[39;00m\n",
      "File \u001b[1;32m~\\anaconda3\\Lib\\site-packages\\pydantic\\__init__.py:413\u001b[0m\n\u001b[0;32m    242\u001b[0m _dynamic_imports: \u001b[38;5;124m'\u001b[39m\u001b[38;5;124mdict[str, tuple[str, str]]\u001b[39m\u001b[38;5;124m'\u001b[39m \u001b[38;5;241m=\u001b[39m {\n\u001b[0;32m    243\u001b[0m     \u001b[38;5;124m'\u001b[39m\u001b[38;5;124mdataclasses\u001b[39m\u001b[38;5;124m'\u001b[39m: (__spec__\u001b[38;5;241m.\u001b[39mparent, \u001b[38;5;124m'\u001b[39m\u001b[38;5;124m__module__\u001b[39m\u001b[38;5;124m'\u001b[39m),\n\u001b[0;32m    244\u001b[0m     \u001b[38;5;66;03m# functional validators\u001b[39;00m\n\u001b[1;32m   (...)\u001b[0m\n\u001b[0;32m    409\u001b[0m     \u001b[38;5;124m'\u001b[39m\u001b[38;5;124mGenerateSchema\u001b[39m\u001b[38;5;124m'\u001b[39m: (__spec__\u001b[38;5;241m.\u001b[39mparent, \u001b[38;5;124m'\u001b[39m\u001b[38;5;124m._internal._generate_schema\u001b[39m\u001b[38;5;124m'\u001b[39m),\n\u001b[0;32m    410\u001b[0m }\n\u001b[0;32m    411\u001b[0m _deprecated_dynamic_imports \u001b[38;5;241m=\u001b[39m {\u001b[38;5;124m'\u001b[39m\u001b[38;5;124mFieldValidationInfo\u001b[39m\u001b[38;5;124m'\u001b[39m, \u001b[38;5;124m'\u001b[39m\u001b[38;5;124mGenerateSchema\u001b[39m\u001b[38;5;124m'\u001b[39m}\n\u001b[1;32m--> 413\u001b[0m _getattr_migration \u001b[38;5;241m=\u001b[39m getattr_migration(\u001b[38;5;18m__name__\u001b[39m)\n\u001b[0;32m    416\u001b[0m \u001b[38;5;28;01mdef\u001b[39;00m \u001b[38;5;21m__getattr__\u001b[39m(attr_name: \u001b[38;5;28mstr\u001b[39m) \u001b[38;5;241m-\u001b[39m\u001b[38;5;241m>\u001b[39m \u001b[38;5;28mobject\u001b[39m:\n\u001b[0;32m    417\u001b[0m     \u001b[38;5;28;01mif\u001b[39;00m attr_name \u001b[38;5;129;01min\u001b[39;00m _deprecated_dynamic_imports:\n",
      "File \u001b[1;32m~\\anaconda3\\Lib\\site-packages\\pydantic\\_migration.py:260\u001b[0m, in \u001b[0;36mgetattr_migration\u001b[1;34m(module)\u001b[0m\n\u001b[0;32m    250\u001b[0m \u001b[38;5;250m\u001b[39m\u001b[38;5;124;03m\"\"\"Implement PEP 562 for objects that were either moved or removed on the migration\u001b[39;00m\n\u001b[0;32m    251\u001b[0m \u001b[38;5;124;03mto V2.\u001b[39;00m\n\u001b[0;32m    252\u001b[0m \n\u001b[1;32m   (...)\u001b[0m\n\u001b[0;32m    257\u001b[0m \u001b[38;5;124;03m    A callable that will raise an error if the object is not found.\u001b[39;00m\n\u001b[0;32m    258\u001b[0m \u001b[38;5;124;03m\"\"\"\u001b[39;00m\n\u001b[0;32m    259\u001b[0m \u001b[38;5;66;03m# This avoids circular import with errors.py.\u001b[39;00m\n\u001b[1;32m--> 260\u001b[0m \u001b[38;5;28;01mfrom\u001b[39;00m \u001b[38;5;21;01m.\u001b[39;00m\u001b[38;5;21;01merrors\u001b[39;00m \u001b[38;5;28;01mimport\u001b[39;00m PydanticImportError\n\u001b[0;32m    262\u001b[0m \u001b[38;5;28;01mdef\u001b[39;00m \u001b[38;5;21mwrapper\u001b[39m(name: \u001b[38;5;28mstr\u001b[39m) \u001b[38;5;241m-\u001b[39m\u001b[38;5;241m>\u001b[39m \u001b[38;5;28mobject\u001b[39m:\n\u001b[0;32m    263\u001b[0m \u001b[38;5;250m    \u001b[39m\u001b[38;5;124;03m\"\"\"Raise an error if the object is not found, or warn if it was moved.\u001b[39;00m\n\u001b[0;32m    264\u001b[0m \n\u001b[0;32m    265\u001b[0m \u001b[38;5;124;03m    In case it was moved, it still returns the object.\u001b[39;00m\n\u001b[1;32m   (...)\u001b[0m\n\u001b[0;32m    271\u001b[0m \u001b[38;5;124;03m        The object.\u001b[39;00m\n\u001b[0;32m    272\u001b[0m \u001b[38;5;124;03m    \"\"\"\u001b[39;00m\n",
      "File \u001b[1;32m~\\anaconda3\\Lib\\site-packages\\pydantic\\errors.py:9\u001b[0m\n\u001b[0;32m      6\u001b[0m \u001b[38;5;28;01mfrom\u001b[39;00m \u001b[38;5;21;01mtyping\u001b[39;00m \u001b[38;5;28;01mimport\u001b[39;00m Any, ClassVar, Literal\n\u001b[0;32m      8\u001b[0m \u001b[38;5;28;01mfrom\u001b[39;00m \u001b[38;5;21;01mtyping_extensions\u001b[39;00m \u001b[38;5;28;01mimport\u001b[39;00m Self\n\u001b[1;32m----> 9\u001b[0m \u001b[38;5;28;01mfrom\u001b[39;00m \u001b[38;5;21;01mtyping_inspection\u001b[39;00m\u001b[38;5;21;01m.\u001b[39;00m\u001b[38;5;21;01mintrospection\u001b[39;00m \u001b[38;5;28;01mimport\u001b[39;00m Qualifier\n\u001b[0;32m     11\u001b[0m \u001b[38;5;28;01mfrom\u001b[39;00m \u001b[38;5;21;01mpydantic\u001b[39;00m\u001b[38;5;21;01m.\u001b[39;00m\u001b[38;5;21;01m_internal\u001b[39;00m \u001b[38;5;28;01mimport\u001b[39;00m _repr\n\u001b[0;32m     13\u001b[0m \u001b[38;5;28;01mfrom\u001b[39;00m \u001b[38;5;21;01m.\u001b[39;00m\u001b[38;5;21;01m_migration\u001b[39;00m \u001b[38;5;28;01mimport\u001b[39;00m getattr_migration\n",
      "File \u001b[1;32m~\\anaconda3\\Lib\\site-packages\\typing_inspection\\introspection.py:14\u001b[0m\n\u001b[0;32m     10\u001b[0m \u001b[38;5;28;01mfrom\u001b[39;00m \u001b[38;5;21;01mtyping\u001b[39;00m \u001b[38;5;28;01mimport\u001b[39;00m Any, Literal, NamedTuple, cast\n\u001b[0;32m     12\u001b[0m \u001b[38;5;28;01mfrom\u001b[39;00m \u001b[38;5;21;01mtyping_extensions\u001b[39;00m \u001b[38;5;28;01mimport\u001b[39;00m TypeAlias, assert_never, get_args, get_origin\n\u001b[1;32m---> 14\u001b[0m \u001b[38;5;28;01mfrom\u001b[39;00m \u001b[38;5;21;01m.\u001b[39;00m \u001b[38;5;28;01mimport\u001b[39;00m typing_objects\n\u001b[0;32m     16\u001b[0m __all__ \u001b[38;5;241m=\u001b[39m (\n\u001b[0;32m     17\u001b[0m     \u001b[38;5;124m'\u001b[39m\u001b[38;5;124mAnnotationSource\u001b[39m\u001b[38;5;124m'\u001b[39m,\n\u001b[0;32m     18\u001b[0m     \u001b[38;5;124m'\u001b[39m\u001b[38;5;124mForbiddenQualifier\u001b[39m\u001b[38;5;124m'\u001b[39m,\n\u001b[1;32m   (...)\u001b[0m\n\u001b[0;32m     23\u001b[0m     \u001b[38;5;124m'\u001b[39m\u001b[38;5;124mis_union_origin\u001b[39m\u001b[38;5;124m'\u001b[39m,\n\u001b[0;32m     24\u001b[0m )\n\u001b[0;32m     26\u001b[0m \u001b[38;5;28;01mif\u001b[39;00m sys\u001b[38;5;241m.\u001b[39mversion_info \u001b[38;5;241m>\u001b[39m\u001b[38;5;241m=\u001b[39m (\u001b[38;5;241m3\u001b[39m, \u001b[38;5;241m14\u001b[39m) \u001b[38;5;129;01mor\u001b[39;00m sys\u001b[38;5;241m.\u001b[39mversion_info \u001b[38;5;241m<\u001b[39m (\u001b[38;5;241m3\u001b[39m, \u001b[38;5;241m10\u001b[39m):\n",
      "File \u001b[1;32m~\\anaconda3\\Lib\\site-packages\\typing_inspection\\typing_objects.py:19\u001b[0m\n\u001b[0;32m     16\u001b[0m \u001b[38;5;28;01mfrom\u001b[39;00m \u001b[38;5;21;01mtyping\u001b[39;00m \u001b[38;5;28;01mimport\u001b[39;00m Any, Final\n\u001b[0;32m     18\u001b[0m \u001b[38;5;28;01mimport\u001b[39;00m \u001b[38;5;21;01mtyping_extensions\u001b[39;00m\n\u001b[1;32m---> 19\u001b[0m \u001b[38;5;28;01mfrom\u001b[39;00m \u001b[38;5;21;01mtyping_extensions\u001b[39;00m \u001b[38;5;28;01mimport\u001b[39;00m LiteralString, TypeAliasType, TypeIs, deprecated\n\u001b[0;32m     21\u001b[0m __all__ \u001b[38;5;241m=\u001b[39m (\n\u001b[0;32m     22\u001b[0m     \u001b[38;5;124m'\u001b[39m\u001b[38;5;124mDEPRECATED_ALIASES\u001b[39m\u001b[38;5;124m'\u001b[39m,\n\u001b[0;32m     23\u001b[0m     \u001b[38;5;124m'\u001b[39m\u001b[38;5;124mNoneType\u001b[39m\u001b[38;5;124m'\u001b[39m,\n\u001b[1;32m   (...)\u001b[0m\n\u001b[0;32m     53\u001b[0m     \u001b[38;5;124m'\u001b[39m\u001b[38;5;124mis_unpack\u001b[39m\u001b[38;5;124m'\u001b[39m,\n\u001b[0;32m     54\u001b[0m )\n\u001b[0;32m     56\u001b[0m _IS_PY310 \u001b[38;5;241m=\u001b[39m sys\u001b[38;5;241m.\u001b[39mversion_info[:\u001b[38;5;241m2\u001b[39m] \u001b[38;5;241m==\u001b[39m (\u001b[38;5;241m3\u001b[39m, \u001b[38;5;241m10\u001b[39m)\n",
      "\u001b[1;31mImportError\u001b[0m: cannot import name 'TypeIs' from 'typing_extensions' (C:\\Users\\prash\\anaconda3\\Lib\\site-packages\\typing_extensions.py)"
     ]
    }
   ],
   "source": [
    "import spacy\n",
    "nlp = spacy.load(\"en_core_web_sm\")\n",
    "doc = nlp(text)"
   ]
  },
  {
   "cell_type": "code",
   "execution_count": null,
   "id": "37308938-f215-4fbe-9042-cd77ced6aa36",
   "metadata": {},
   "outputs": [],
   "source": []
  }
 ],
 "metadata": {
  "kernelspec": {
   "display_name": "Python 3 (ipykernel)",
   "language": "python",
   "name": "python3"
  },
  "language_info": {
   "codemirror_mode": {
    "name": "ipython",
    "version": 3
   },
   "file_extension": ".py",
   "mimetype": "text/x-python",
   "name": "python",
   "nbconvert_exporter": "python",
   "pygments_lexer": "ipython3",
   "version": "3.11.7"
  }
 },
 "nbformat": 4,
 "nbformat_minor": 5
}
