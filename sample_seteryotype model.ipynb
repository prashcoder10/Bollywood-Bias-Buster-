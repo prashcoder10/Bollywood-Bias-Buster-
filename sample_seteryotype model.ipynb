{
 "cells": [
  {
   "cell_type": "code",
   "execution_count": 1,
   "id": "ed58dcf9-e9ca-45cf-b7a3-6842e6d8dc13",
   "metadata": {},
   "outputs": [],
   "source": [
    "# Sample lexicons (ideally load from your male_verb.csv etc.)\n",
    "female_adjs = {\"beautiful\", \"lovely\", \"cute\", \"obedient\"}\n",
    "male_adjs = {\"brave\", \"strong\", \"dominant\", \"bold\"}\n",
    "female_roles = {\"nurse\", \"maid\", \"secretary\", \"housewife\", \"daughter\"}\n",
    "male_roles = {\"doctor\", \"police\", \"pilot\", \"businessman\", \"boss\"}\n"
   ]
  },
  {
   "cell_type": "code",
   "execution_count": 2,
   "id": "be499ef4-0a99-4e1b-b457-ffc601d9016d",
   "metadata": {},
   "outputs": [],
   "source": [
    "import spacy\n",
    "import pandas as pd"
   ]
  },
  {
   "cell_type": "code",
   "execution_count": 3,
   "id": "a0e3228b-15f8-47c2-bb6a-4e586663a6fd",
   "metadata": {},
   "outputs": [],
   "source": [
    "nlp = spacy.load(\"en_core_web_sm\")"
   ]
  },
  {
   "cell_type": "code",
   "execution_count": 4,
   "id": "8e9c2967-ea3c-4c8c-8cfc-ea107c512702",
   "metadata": {},
   "outputs": [],
   "source": [
    "def get_gender_from_cast(name, cast_df):\n",
    "    \"\"\"Return gender if name is in cast dataset.\"\"\"\n",
    "    name = name.strip().lower()\n",
    "    row = cast_df[cast_df['character'].str.lower() == name]\n",
    "    return row['gender'].values[0].lower() if not row.empty else None\n"
   ]
  },
  {
   "cell_type": "code",
   "execution_count": 5,
   "id": "4e95dc0e-2a4c-4163-9fd8-16c3111a6fde",
   "metadata": {},
   "outputs": [],
   "source": [
    "def detect_script_stereotypes_advanced(script_path, cast_df):\n",
    "    text = open(script_path, 'r', encoding='utf-8').read()\n",
    "    doc = nlp(text)\n",
    "    results = []\n",
    "\n",
    "    for sent in doc.sents:\n",
    "        sent_text = sent.text.strip()\n",
    "\n",
    "        for token in sent:\n",
    "            # Check for adjective stereotype\n",
    "            if token.pos_ == \"ADJ\":\n",
    "                subj = [w for w in token.head.lefts if w.dep_ in (\"nsubj\", \"nsubjpass\")]\n",
    "                if subj:\n",
    "                    subj_text = subj[0].text\n",
    "                    gender = get_gender_from_cast(subj_text, cast_df)\n",
    "                    if gender == \"female\" and token.text.lower() in female_adjs:\n",
    "                        results.append((sent_text, subj_text, gender, token.text, \"Appearance bias\"))\n",
    "                    elif gender == \"male\" and token.text.lower() in male_adjs:\n",
    "                        results.append((sent_text, subj_text, gender, token.text, \"Achievement bias\"))\n",
    "\n",
    "            # Check for role/occupation stereotype\n",
    "            if token.pos_ == \"NOUN\":\n",
    "                if token.text.lower() in female_roles:\n",
    "                    results.append((sent_text, token.text, \"female\", token.text, \"Gendered Occupation\"))\n",
    "                elif token.text.lower() in male_roles:\n",
    "                    results.append((sent_text, token.text, \"male\", token.text, \"Gendered Occupation\"))\n",
    "\n",
    "            # Check for copular (is/was) patterns like \"She is beautiful\", \"He is strong\"\n",
    "            if token.dep_ == \"attr\" and token.head.pos_ == \"AUX\":\n",
    "                subj = [w for w in token.head.lefts if w.dep_ == \"nsubj\"]\n",
    "                if subj:\n",
    "                    subj_text = subj[0].text\n",
    "                    gender = get_gender_from_cast(subj_text, cast_df)\n",
    "                    if gender == \"female\" and token.text.lower() in female_adjs:\n",
    "                        results.append((sent_text, subj_text, gender, token.text, \"Appearance bias\"))\n",
    "                    elif gender == \"male\" and token.text.lower() in male_adjs:\n",
    "                        results.append((sent_text, subj_text, gender, token.text, \"Achievement bias\"))\n",
    "\n",
    "    return pd.DataFrame(results, columns=[\"sentence\", \"character\", \"gender\", \"keyword\", \"bias_type\"])\n"
   ]
  },
  {
   "cell_type": "code",
   "execution_count": 9,
   "id": "c6b629d2-cfa7-4ad5-ae2f-1926e03cd8ac",
   "metadata": {},
   "outputs": [],
   "source": [
    "cast_df = pd.read_csv(\"C:\\\\Users\\\\prash\\\\docu3c\\\\Bollywood-Data-master\\\\wikipedia-data\\\\characters.csv\")  # or character.csv\n",
    "bias_df = detect_script_stereotypes_advanced(\"C:\\\\Users\\\\prash\\\\docu3c\\\\Bollywood-Data-master\\\\scripts-text\\\\Haider.txt\", cast_df)\n",
    "bias_df.to_csv(\"C:\\\\Users\\\\prash\\\\docu3c\\\\Bollywood-Data-master\\\\scripts-csv\\\\haider_biases.csv\", index=False)\n"
   ]
  },
  {
   "cell_type": "code",
   "execution_count": 10,
   "id": "cea19a8d-643e-4885-9bd5-a1a3c9c87300",
   "metadata": {},
   "outputs": [],
   "source": [
    "import os\n",
    "import pandas as pd\n"
   ]
  },
  {
   "cell_type": "code",
   "execution_count": 11,
   "id": "f90a167f-fb86-4305-a948-ab7884367f5f",
   "metadata": {},
   "outputs": [],
   "source": [
    "cast_df = pd.read_csv(\"C:\\\\Users\\\\prash\\\\docu3c\\\\Bollywood-Data-master\\\\wikipedia-data\\\\characters.csv\")\n",
    "cast_df['character'] = cast_df['character'].str.strip().str.lower()"
   ]
  },
  {
   "cell_type": "code",
   "execution_count": 12,
   "id": "86ec1e33-d52d-47eb-9ad4-32cda94c9237",
   "metadata": {},
   "outputs": [],
   "source": [
    "output_dir = \"C:\\\\Users\\\\prash\\\\docu3c\\\\Bollywood-Data-master\\\\bias_reports\"\n",
    "os.makedirs(output_dir, exist_ok=True)"
   ]
  },
  {
   "cell_type": "code",
   "execution_count": 15,
   "id": "3abf5a62-1dd5-450f-84d2-7a9929ddbcba",
   "metadata": {},
   "outputs": [
    {
     "name": "stdout",
     "output_type": "stream",
     "text": [
      "[✓] Bias extracted for: Haider\n",
      "[✓] Bias extracted for: Highway\n",
      "[✓] Bias extracted for: JabWeMet\n",
      "[✓] Bias extracted for: Kaminey\n",
      "[✓] Bias extracted for: Maqbool\n",
      "[✓] Bias extracted for: Masaan\n",
      "[✓] Bias extracted for: Neerja\n",
      "[✓] Bias extracted for: Nil Battey Sannata\n",
      "[✓] Bias extracted for: Pink\n",
      "[✓] Bias extracted for: Queen\n",
      "[✓] Bias extracted for: Raman Raghav 2_0\n",
      "[✓] Bias extracted for: Rang De Basanti Script - Film Companion-min\n",
      "[✓] Bias extracted for: Rockstar\n"
     ]
    }
   ],
   "source": [
    "script_folder = \"C:\\\\Users\\\\prash\\\\docu3c\\\\Bollywood-Data-master\\\\scripts-text\"\n",
    "for file in os.listdir(script_folder):\n",
    "    if file.endswith(\".txt\"):\n",
    "        script_path = os.path.join(script_folder, file)\n",
    "        movie_name = file.replace(\".txt\", \"\")\n",
    "        \n",
    "        # Detect bias\n",
    "        bias_df = detect_script_stereotypes_advanced(script_path, cast_df)\n",
    "        \n",
    "        # Save results\n",
    "        output_path = os.path.join(output_dir, f\"{movie_name}_bias.csv\")\n",
    "        bias_df.to_csv(output_path, index=False)\n",
    "        print(f\"[✓] Bias extracted for: {movie_name}\")"
   ]
  },
  {
   "cell_type": "code",
   "execution_count": 16,
   "id": "7b9a8c26-9559-420a-8d2d-c316aa1e4705",
   "metadata": {},
   "outputs": [],
   "source": [
    "def generate_bias_summary(bias_df, movie_name):\n",
    "    from collections import Counter\n",
    "    summary = {}\n",
    "\n",
    "    summary['Movie'] = movie_name\n",
    "    summary['Total Biased Lines'] = len(bias_df)\n",
    "    summary['Bias Types'] = dict(Counter(bias_df['bias_type']))\n",
    "    summary['Male Characters Affected'] = bias_df[bias_df['gender'] == 'male']['character'].nunique()\n",
    "    summary['Female Characters Affected'] = bias_df[bias_df['gender'] == 'female']['character'].nunique()\n",
    "\n",
    "    return pd.DataFrame([summary])\n"
   ]
  },
  {
   "cell_type": "code",
   "execution_count": 17,
   "id": "1a40503f-929f-4e3f-86b3-0a567e0b4985",
   "metadata": {},
   "outputs": [],
   "source": [
    "\n",
    "report_rows = []\n",
    "\n",
    "for file in os.listdir(output_dir):\n",
    "    if file.endswith(\"_bias.csv\"):\n",
    "        bias_df = pd.read_csv(os.path.join(output_dir, file))\n",
    "        movie = file.replace(\"_bias.csv\", \"\")\n",
    "        summary = generate_bias_summary(bias_df, movie)\n",
    "        report_rows.append(summary)\n",
    "\n"
   ]
  },
  {
   "cell_type": "code",
   "execution_count": 19,
   "id": "6078d8da-fd05-4321-9cb8-49261012ff42",
   "metadata": {},
   "outputs": [
    {
     "name": "stdout",
     "output_type": "stream",
     "text": [
      "[✓] Bias Feedback Report Generated!\n"
     ]
    }
   ],
   "source": [
    "# Final Bias Feedback Report comparing all movies\n",
    "final_report = pd.concat(report_rows, ignore_index=True)\n",
    "final_report.to_csv(\"C:\\\\Users\\\\prash\\\\docu3c\\\\Bollywood-Data-master\\\\Bias_Feedback_Report.csv\", index=False)\n",
    "print(\"[✓] Bias Feedback Report Generated!\")\n"
   ]
  },
  {
   "cell_type": "code",
   "execution_count": 20,
   "id": "0f2a13aa-3432-4244-9ed7-afd7bc033dfd",
   "metadata": {},
   "outputs": [],
   "source": [
    "def suggest_rewrite(sentence, bias_type):\n",
    "    if \"Appearance bias\" in bias_type:\n",
    "        return sentence.replace(\"beautiful\", \"confident\").replace(\"cute\", \"smart\")\n",
    "    elif \"Passive\" in bias_type:\n",
    "        return sentence.replace(\"She looks\", \"She asserts\")\n",
    "    elif \"Action-oriented\" in bias_type:\n",
    "        return sentence.replace(\"He leads\", \"They collaborate\")\n",
    "    else:\n",
    "        return \"Consider revising: \" + sentence\n",
    "\n"
   ]
  },
  {
   "cell_type": "code",
   "execution_count": 21,
   "id": "2dafd751-96b6-4913-a7f8-e8f0c24c6eda",
   "metadata": {},
   "outputs": [],
   "source": [
    "bias_df['suggested_rewrite'] = bias_df.apply(lambda row: suggest_rewrite(row['sentence'], row['bias_type']), axis=1)\n"
   ]
  },
  {
   "cell_type": "code",
   "execution_count": 22,
   "id": "e232a765-15f6-407b-9e5c-b8de36daa801",
   "metadata": {},
   "outputs": [
    {
     "data": {
      "text/html": [
       "<div>\n",
       "<style scoped>\n",
       "    .dataframe tbody tr th:only-of-type {\n",
       "        vertical-align: middle;\n",
       "    }\n",
       "\n",
       "    .dataframe tbody tr th {\n",
       "        vertical-align: top;\n",
       "    }\n",
       "\n",
       "    .dataframe thead th {\n",
       "        text-align: right;\n",
       "    }\n",
       "</style>\n",
       "<table border=\"1\" class=\"dataframe\">\n",
       "  <thead>\n",
       "    <tr style=\"text-align: right;\">\n",
       "      <th></th>\n",
       "      <th>sentence</th>\n",
       "      <th>character</th>\n",
       "      <th>gender</th>\n",
       "      <th>keyword</th>\n",
       "      <th>bias_type</th>\n",
       "      <th>suggested_rewrite</th>\n",
       "    </tr>\n",
       "  </thead>\n",
       "  <tbody>\n",
       "    <tr>\n",
       "      <th>0</th>\n",
       "      <td>Jaat \\n \\nRoyal family type… \\nMayank \\nAgar d...</td>\n",
       "      <td>boss</td>\n",
       "      <td>male</td>\n",
       "      <td>boss</td>\n",
       "      <td>Gendered Occupation</td>\n",
       "      <td>Consider revising: Jaat \\n \\nRoyal family type...</td>\n",
       "    </tr>\n",
       "    <tr>\n",
       "      <th>1</th>\n",
       "      <td>Police mein report kara de… Haan… \\nMeanwhile,...</td>\n",
       "      <td>Police</td>\n",
       "      <td>male</td>\n",
       "      <td>Police</td>\n",
       "      <td>Gendered Occupation</td>\n",
       "      <td>Consider revising: Police mein report kara de…...</td>\n",
       "    </tr>\n",
       "    <tr>\n",
       "      <th>2</th>\n",
       "      <td>Janardan \\nJo sachcha pyaar hota hai na… shidd...</td>\n",
       "      <td>Police</td>\n",
       "      <td>male</td>\n",
       "      <td>Police</td>\n",
       "      <td>Gendered Occupation</td>\n",
       "      <td>Consider revising: Janardan \\nJo sachcha pyaar...</td>\n",
       "    </tr>\n",
       "    <tr>\n",
       "      <th>3</th>\n",
       "      <td>She is standing with her boss Mohit in the new...</td>\n",
       "      <td>boss</td>\n",
       "      <td>male</td>\n",
       "      <td>boss</td>\n",
       "      <td>Gendered Occupation</td>\n",
       "      <td>Consider revising: She is standing with her bo...</td>\n",
       "    </tr>\n",
       "    <tr>\n",
       "      <th>4</th>\n",
       "      <td>The pilot track plays too loud in Jordan’s cans.</td>\n",
       "      <td>pilot</td>\n",
       "      <td>male</td>\n",
       "      <td>pilot</td>\n",
       "      <td>Gendered Occupation</td>\n",
       "      <td>Consider revising: The pilot track plays too l...</td>\n",
       "    </tr>\n",
       "  </tbody>\n",
       "</table>\n",
       "</div>"
      ],
      "text/plain": [
       "                                            sentence character gender keyword  \\\n",
       "0  Jaat \\n \\nRoyal family type… \\nMayank \\nAgar d...      boss   male    boss   \n",
       "1  Police mein report kara de… Haan… \\nMeanwhile,...    Police   male  Police   \n",
       "2  Janardan \\nJo sachcha pyaar hota hai na… shidd...    Police   male  Police   \n",
       "3  She is standing with her boss Mohit in the new...      boss   male    boss   \n",
       "4   The pilot track plays too loud in Jordan’s cans.     pilot   male   pilot   \n",
       "\n",
       "             bias_type                                  suggested_rewrite  \n",
       "0  Gendered Occupation  Consider revising: Jaat \\n \\nRoyal family type...  \n",
       "1  Gendered Occupation  Consider revising: Police mein report kara de…...  \n",
       "2  Gendered Occupation  Consider revising: Janardan \\nJo sachcha pyaar...  \n",
       "3  Gendered Occupation  Consider revising: She is standing with her bo...  \n",
       "4  Gendered Occupation  Consider revising: The pilot track plays too l...  "
      ]
     },
     "execution_count": 22,
     "metadata": {},
     "output_type": "execute_result"
    }
   ],
   "source": [
    "bias_df.head()\n"
   ]
  },
  {
   "cell_type": "code",
   "execution_count": 33,
   "id": "0018c59b-6251-4443-bfc2-cd0da011f52e",
   "metadata": {},
   "outputs": [],
   "source": [
    "import os\n",
    "import pandas as pd\n",
    "import spacy\n",
    "from openai import OpenAI"
   ]
  },
  {
   "cell_type": "code",
   "execution_count": 34,
   "id": "651e30df-7a96-440d-b043-260b1e71d7e5",
   "metadata": {},
   "outputs": [],
   "source": [
    "nlp = spacy.load(\"en_core_web_sm\")\n",
    "client = OpenAI(api_key=\"sk-..._XUA\")"
   ]
  },
  {
   "cell_type": "code",
   "execution_count": 36,
   "id": "1e51ddd7-4321-4d72-bd24-3f230639014b",
   "metadata": {},
   "outputs": [],
   "source": [
    "cast_df = pd.read_csv(\"C:\\\\Users\\\\prash\\\\docu3c\\\\Bollywood-Data-master\\\\wikipedia-data\\\\characters.csv\")\n",
    "cast_df['character'] = cast_df['character'].str.strip().str.lower()\n",
    "character_gender_map = dict(zip(cast_df['character'], cast_df['gender']))"
   ]
  },
  {
   "cell_type": "code",
   "execution_count": 37,
   "id": "a877fef1-8ba7-4607-b67e-b7bf45af28f8",
   "metadata": {},
   "outputs": [],
   "source": [
    "def load_lexicon(path):\n",
    "    return set(pd.read_csv(path, header=None)[0].str.strip().str.lower())\n",
    "\n",
    "female_adjs = load_lexicon(\"C:\\\\Users\\\\prash\\\\docu3c\\\\Bollywood-Data-master\\\\wikipedia-data\\\\cleaned_female_adjectives.csv\")\n",
    "male_adjs = load_lexicon(\"C:\\\\Users\\\\prash\\\\docu3c\\\\Bollywood-Data-master\\\\wikipedia-data\\\\cleaned_male_adjectives.csv\")\n",
    "female_verbs = load_lexicon(\"C:\\\\Users\\\\prash\\\\docu3c\\\\Bollywood-Data-master\\\\wikipedia-data\\\\cleaned_female_verb.csv\")\n",
    "male_verbs = load_lexicon(\"C:\\\\Users\\\\prash\\\\docu3c\\\\Bollywood-Data-master\\\\wikipedia-data\\\\cleaned_male_verb.csv\")\n"
   ]
  },
  {
   "cell_type": "code",
   "execution_count": 38,
   "id": "26f023f8-ce01-4fbe-9812-da81fdf12082",
   "metadata": {},
   "outputs": [],
   "source": [
    "def get_gender(name):\n",
    "    return character_gender_map.get(name.strip().lower())"
   ]
  },
  {
   "cell_type": "code",
   "execution_count": 39,
   "id": "6360897f-dd15-4f4c-8f8f-1d288a47ce54",
   "metadata": {},
   "outputs": [],
   "source": [
    "def suggest_rewrite(sentence, bias_type):\n",
    "    prompt = f\"\"\"You're a screenwriting consultant. The following line contains a stereotype: {bias_type}.\n",
    "Please rewrite the line to be neutral and bias-free while preserving its meaning.\n",
    "\n",
    "Biased Sentence: \"{sentence}\"\n",
    "Rewrite:\"\"\"\n",
    "\n",
    "    try:\n",
    "        response = client.chat.completions.create(\n",
    "            model=\"gpt-3.5-turbo\",\n",
    "            messages=[{\"role\": \"user\", \"content\": prompt}],\n",
    "            temperature=0.7,\n",
    "            max_tokens=200\n",
    "        )\n",
    "        return response.choices[0].message.content.strip()\n",
    "    except Exception as e:\n",
    "        print(\"Rewrite Error:\", e)\n",
    "        return sentence"
   ]
  },
  {
   "cell_type": "code",
   "execution_count": 47,
   "id": "6c3bbd3b-8db0-40ed-8059-f8a065d9f752",
   "metadata": {},
   "outputs": [],
   "source": [
    "def detect_and_rewrite_script(script_path):\n",
    "    text = open(script_path, 'r', encoding='utf-8').read()\n",
    "    doc = nlp(text)\n",
    "\n",
    "    new_script = []\n",
    "    summary_data = []\n",
    "\n",
    "    for sent in doc.sents:\n",
    "        sentence_text = sent.text.strip()\n",
    "        bias_detected = False\n",
    "        rewrite_text = sentence_text\n",
    "\n",
    "        for token in sent:\n",
    "            token_lower = token.text.lower()\n",
    "\n",
    "            # Gender based adjective bias\n",
    "            gender = get_gender(token.text)\n",
    "            if token.pos_ == \"ADJ\":\n",
    "                if gender == \"female\" and token_lower in female_adjs:\n",
    "                    bias_type = \"Appearance bias (female)\"\n",
    "                    rewrite_text = suggest_rewrite(sentence_text, bias_type)\n",
    "                    summary_data.append((sentence_text, token.text, gender, bias_type, rewrite_text))\n",
    "                    bias_detected = True\n",
    "                    break\n",
    "                elif gender == \"male\" and token_lower in male_adjs:\n",
    "                    bias_type = \"Power bias (male)\"\n",
    "                    rewrite_text = suggest_rewrite(sentence_text, bias_type)\n",
    "                    summary_data.append((sentence_text, token.text, gender, bias_type, rewrite_text))\n",
    "                    bias_detected = True\n",
    "                    break\n",
    "            if token.pos_ == \"VERB\":\n",
    "                if gender == \"female\" and token_lower in female_verbs:\n",
    "                    bias_type = \"Passive role (female)\"\n",
    "                    rewrite_text = suggest_rewrite(sentence_text, bias_type)\n",
    "                    summary_data.append((sentence_text, token.text, gender, bias_type, rewrite_text))\n",
    "                    bias_detected = True\n",
    "                    break\n",
    "                elif gender == \"male\" and token_lower in male_verbs:\n",
    "                    bias_type = \"Action role (male)\"\n",
    "                    rewrite_text = suggest_rewrite(sentence_text, bias_type)\n",
    "                    summary_data.append((sentence_text, token.text, gender, bias_type, rewrite_text))\n",
    "                    bias_detected = True\n",
    "                    break\n",
    "        new_script.append(rewrite_text if bias_detected else sentence_text)\n",
    "\n",
    "    return new_script, pd.DataFrame(summary_data, columns=[\"original_sentence\", \"token\", \"gender\", \"bias_type\", \"rewrite\"])\n"
   ]
  },
  {
   "cell_type": "code",
   "execution_count": 50,
   "id": "ca74a1d0-f475-4f93-8738-ab53680c51b1",
   "metadata": {},
   "outputs": [],
   "source": [
    "def process_all_scripts():\n",
    "    os.makedirs(\"rewrites\", exist_ok=True)\n",
    "    os.makedirs(\"summaries\", exist_ok=True)\n",
    "\n",
    "    scripts_dir = \"C:\\\\Users\\\\prash\\\\docu3c\\\\Bollywood-Data-master\\\\scripts-text\"\n",
    "    for script_file in os.listdir(scripts_dir):\n",
    "        if script_file.endswith(\".txt\"):\n",
    "            movie_name = script_file.replace(\".txt\", \"\")\n",
    "            print(f\"Processing {movie_name}...\")\n",
    "\n",
    "            script_path = os.path.join(scripts_dir, script_file)\n",
    "            new_script, summary_df = detect_and_rewrite_script(script_path)\n",
    "\n",
    "            # Save outputs\n",
    "            with open(f\"rewrites/biasless_{movie_name}.txt\", 'w', encoding='utf-8') as f_out:\n",
    "                f_out.write(\"\\n\".join(new_script))\n",
    "\n",
    "            summary_df.to_csv(f\"summaries/{movie_name}_bias_summary.csv\", index=False)\n",
    "\n",
    "    print(\"✅ All scripts processed and rewritten!\")\n"
   ]
  },
  {
   "cell_type": "code",
   "execution_count": 51,
   "id": "22d228af-1c02-4685-a608-055de5adb304",
   "metadata": {},
   "outputs": [
    {
     "name": "stdout",
     "output_type": "stream",
     "text": [
      "Processing Haider...\n",
      "Processing Highway...\n",
      "Processing JabWeMet...\n",
      "Processing Kaminey...\n",
      "Processing Maqbool...\n",
      "Processing Masaan...\n",
      "Processing Neerja...\n",
      "Processing Nil Battey Sannata...\n",
      "Processing Pink...\n",
      "Processing Queen...\n",
      "Processing Raman Raghav 2_0...\n",
      "Processing Rang De Basanti Script - Film Companion-min...\n",
      "Processing Rockstar...\n",
      "✅ All scripts processed and rewritten!\n"
     ]
    }
   ],
   "source": [
    "process_all_scripts()"
   ]
  },
  {
   "cell_type": "code",
   "execution_count": null,
   "id": "b8eb114c-209b-4f49-88f3-aaddf0d98c16",
   "metadata": {},
   "outputs": [],
   "source": []
  }
 ],
 "metadata": {
  "kernelspec": {
   "display_name": "Python 3 (ipykernel)",
   "language": "python",
   "name": "python3"
  },
  "language_info": {
   "codemirror_mode": {
    "name": "ipython",
    "version": 3
   },
   "file_extension": ".py",
   "mimetype": "text/x-python",
   "name": "python",
   "nbconvert_exporter": "python",
   "pygments_lexer": "ipython3",
   "version": "3.11.7"
  }
 },
 "nbformat": 4,
 "nbformat_minor": 5
}
